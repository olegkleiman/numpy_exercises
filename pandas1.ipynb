{
 "cells": [
  {
   "cell_type": "code",
   "execution_count": 3,
   "metadata": {
    "tags": []
   },
   "outputs": [
    {
     "output_type": "stream",
     "name": "stdout",
     "text": "1.19.0\n1.0.5\n"
    }
   ],
   "source": [
    "import pandas as pd\n",
    "import matplotlib.pyplot as plt\n",
    "import numpy as np\n",
    "\n",
    "print( np.__version__ )\n",
    "print( pd.__version__ )\n"
   ]
  },
  {
   "cell_type": "markdown",
   "metadata": {},
   "source": [
    "Load The file sessions.csv \n",
    "\n",
    "Set the col names to 'user','dt','time','ip','url'"
   ]
  },
  {
   "cell_type": "code",
   "execution_count": 5,
   "metadata": {},
   "outputs": [
    {
     "output_type": "execute_result",
     "data": {
      "text/plain": "        user         dt   time             ip             url\n0     123765  16/3/2017  13:44   123.41.24.13      admin.html\n1     123649   6/3/2017  13:29   123.41.24.13       home.html\n2     123740  14/3/2017  15:51   145.41.90.13     orders.html\n3     123811  27/3/2017   9:16   123.23.24.13       home.html\n4     123753  19/3/2017  17:54   145.41.24.13  customres.html\n...      ...        ...    ...            ...             ...\n9995  123910   7/3/2017  16:27  225.202.99.12    results.html\n9996  123669  26/3/2017  14:26  225.202.99.12    results.html\n9997  123483  23/3/2017  13:36  225.202.99.12    results.html\n9998  123707  10/3/2017  17:19  225.202.99.12    results.html\n9999  123591  12/3/2017  10:28  225.202.99.12    results.html\n\n[10000 rows x 5 columns]",
      "text/html": "<div>\n<style scoped>\n    .dataframe tbody tr th:only-of-type {\n        vertical-align: middle;\n    }\n\n    .dataframe tbody tr th {\n        vertical-align: top;\n    }\n\n    .dataframe thead th {\n        text-align: right;\n    }\n</style>\n<table border=\"1\" class=\"dataframe\">\n  <thead>\n    <tr style=\"text-align: right;\">\n      <th></th>\n      <th>user</th>\n      <th>dt</th>\n      <th>time</th>\n      <th>ip</th>\n      <th>url</th>\n    </tr>\n  </thead>\n  <tbody>\n    <tr>\n      <th>0</th>\n      <td>123765</td>\n      <td>16/3/2017</td>\n      <td>13:44</td>\n      <td>123.41.24.13</td>\n      <td>admin.html</td>\n    </tr>\n    <tr>\n      <th>1</th>\n      <td>123649</td>\n      <td>6/3/2017</td>\n      <td>13:29</td>\n      <td>123.41.24.13</td>\n      <td>home.html</td>\n    </tr>\n    <tr>\n      <th>2</th>\n      <td>123740</td>\n      <td>14/3/2017</td>\n      <td>15:51</td>\n      <td>145.41.90.13</td>\n      <td>orders.html</td>\n    </tr>\n    <tr>\n      <th>3</th>\n      <td>123811</td>\n      <td>27/3/2017</td>\n      <td>9:16</td>\n      <td>123.23.24.13</td>\n      <td>home.html</td>\n    </tr>\n    <tr>\n      <th>4</th>\n      <td>123753</td>\n      <td>19/3/2017</td>\n      <td>17:54</td>\n      <td>145.41.24.13</td>\n      <td>customres.html</td>\n    </tr>\n    <tr>\n      <th>...</th>\n      <td>...</td>\n      <td>...</td>\n      <td>...</td>\n      <td>...</td>\n      <td>...</td>\n    </tr>\n    <tr>\n      <th>9995</th>\n      <td>123910</td>\n      <td>7/3/2017</td>\n      <td>16:27</td>\n      <td>225.202.99.12</td>\n      <td>results.html</td>\n    </tr>\n    <tr>\n      <th>9996</th>\n      <td>123669</td>\n      <td>26/3/2017</td>\n      <td>14:26</td>\n      <td>225.202.99.12</td>\n      <td>results.html</td>\n    </tr>\n    <tr>\n      <th>9997</th>\n      <td>123483</td>\n      <td>23/3/2017</td>\n      <td>13:36</td>\n      <td>225.202.99.12</td>\n      <td>results.html</td>\n    </tr>\n    <tr>\n      <th>9998</th>\n      <td>123707</td>\n      <td>10/3/2017</td>\n      <td>17:19</td>\n      <td>225.202.99.12</td>\n      <td>results.html</td>\n    </tr>\n    <tr>\n      <th>9999</th>\n      <td>123591</td>\n      <td>12/3/2017</td>\n      <td>10:28</td>\n      <td>225.202.99.12</td>\n      <td>results.html</td>\n    </tr>\n  </tbody>\n</table>\n<p>10000 rows × 5 columns</p>\n</div>"
     },
     "metadata": {},
     "execution_count": 5
    }
   ],
   "source": [
    "header_list = ['user','dt','time','ip','url']\n",
    "df = pd.read_csv(\"sessions.csv\", names=header_list, parse_dates=True)\n",
    "df"
   ]
  },
  {
   "cell_type": "markdown",
   "metadata": {},
   "source": [
    "display dataframe info"
   ]
  },
  {
   "cell_type": "code",
   "execution_count": 6,
   "metadata": {
    "tags": []
   },
   "outputs": [
    {
     "output_type": "stream",
     "name": "stdout",
     "text": "<class 'pandas.core.frame.DataFrame'>\nRangeIndex: 10000 entries, 0 to 9999\nData columns (total 5 columns):\n #   Column  Non-Null Count  Dtype \n---  ------  --------------  ----- \n 0   user    10000 non-null  int64 \n 1   dt      10000 non-null  object\n 2   time    10000 non-null  object\n 3   ip      10000 non-null  object\n 4   url     10000 non-null  object\ndtypes: int64(1), object(4)\nmemory usage: 390.8+ KB\n"
    }
   ],
   "source": [
    "df.info(verbose=True)"
   ]
  },
  {
   "cell_type": "markdown",
   "metadata": {},
   "source": [
    "display 10 rowsd"
   ]
  },
  {
   "cell_type": "code",
   "execution_count": 21,
   "metadata": {},
   "outputs": [
    {
     "output_type": "execute_result",
     "data": {
      "text/plain": "     user         dt   time            ip             url\n0  123765  16/3/2017  13:44  123.41.24.13      admin.html\n1  123649   6/3/2017  13:29  123.41.24.13       home.html\n2  123740  14/3/2017  15:51  145.41.90.13     orders.html\n3  123811  27/3/2017   9:16  123.23.24.13       home.html\n4  123753  19/3/2017  17:54  145.41.24.13  customres.html\n5  123770   5/3/2017  13:57  145.23.24.17       home.html\n6  123934   6/3/2017  13:25  145.23.90.17   notfound.html\n7  123532  23/3/2017  18:56  123.41.90.13       home.html\n8  123862   7/3/2017  16:44  123.23.90.17   notfound.html\n9  123444  22/3/2017  11:42  123.23.24.13     search.html",
      "text/html": "<div>\n<style scoped>\n    .dataframe tbody tr th:only-of-type {\n        vertical-align: middle;\n    }\n\n    .dataframe tbody tr th {\n        vertical-align: top;\n    }\n\n    .dataframe thead th {\n        text-align: right;\n    }\n</style>\n<table border=\"1\" class=\"dataframe\">\n  <thead>\n    <tr style=\"text-align: right;\">\n      <th></th>\n      <th>user</th>\n      <th>dt</th>\n      <th>time</th>\n      <th>ip</th>\n      <th>url</th>\n    </tr>\n  </thead>\n  <tbody>\n    <tr>\n      <th>0</th>\n      <td>123765</td>\n      <td>16/3/2017</td>\n      <td>13:44</td>\n      <td>123.41.24.13</td>\n      <td>admin.html</td>\n    </tr>\n    <tr>\n      <th>1</th>\n      <td>123649</td>\n      <td>6/3/2017</td>\n      <td>13:29</td>\n      <td>123.41.24.13</td>\n      <td>home.html</td>\n    </tr>\n    <tr>\n      <th>2</th>\n      <td>123740</td>\n      <td>14/3/2017</td>\n      <td>15:51</td>\n      <td>145.41.90.13</td>\n      <td>orders.html</td>\n    </tr>\n    <tr>\n      <th>3</th>\n      <td>123811</td>\n      <td>27/3/2017</td>\n      <td>9:16</td>\n      <td>123.23.24.13</td>\n      <td>home.html</td>\n    </tr>\n    <tr>\n      <th>4</th>\n      <td>123753</td>\n      <td>19/3/2017</td>\n      <td>17:54</td>\n      <td>145.41.24.13</td>\n      <td>customres.html</td>\n    </tr>\n    <tr>\n      <th>5</th>\n      <td>123770</td>\n      <td>5/3/2017</td>\n      <td>13:57</td>\n      <td>145.23.24.17</td>\n      <td>home.html</td>\n    </tr>\n    <tr>\n      <th>6</th>\n      <td>123934</td>\n      <td>6/3/2017</td>\n      <td>13:25</td>\n      <td>145.23.90.17</td>\n      <td>notfound.html</td>\n    </tr>\n    <tr>\n      <th>7</th>\n      <td>123532</td>\n      <td>23/3/2017</td>\n      <td>18:56</td>\n      <td>123.41.90.13</td>\n      <td>home.html</td>\n    </tr>\n    <tr>\n      <th>8</th>\n      <td>123862</td>\n      <td>7/3/2017</td>\n      <td>16:44</td>\n      <td>123.23.90.17</td>\n      <td>notfound.html</td>\n    </tr>\n    <tr>\n      <th>9</th>\n      <td>123444</td>\n      <td>22/3/2017</td>\n      <td>11:42</td>\n      <td>123.23.24.13</td>\n      <td>search.html</td>\n    </tr>\n  </tbody>\n</table>\n</div>"
     },
     "metadata": {},
     "execution_count": 21
    }
   ],
   "source": [
    "df.head(10)"
   ]
  },
  {
   "cell_type": "markdown",
   "metadata": {},
   "source": [
    "display only IP and URL"
   ]
  },
  {
   "cell_type": "code",
   "execution_count": 22,
   "metadata": {},
   "outputs": [
    {
     "output_type": "execute_result",
     "data": {
      "text/plain": "                 ip             url\n0      123.41.24.13      admin.html\n1      123.41.24.13       home.html\n2      145.41.90.13     orders.html\n3      123.23.24.13       home.html\n4      145.41.24.13  customres.html\n...             ...             ...\n9995  225.202.99.12    results.html\n9996  225.202.99.12    results.html\n9997  225.202.99.12    results.html\n9998  225.202.99.12    results.html\n9999  225.202.99.12    results.html\n\n[10000 rows x 2 columns]",
      "text/html": "<div>\n<style scoped>\n    .dataframe tbody tr th:only-of-type {\n        vertical-align: middle;\n    }\n\n    .dataframe tbody tr th {\n        vertical-align: top;\n    }\n\n    .dataframe thead th {\n        text-align: right;\n    }\n</style>\n<table border=\"1\" class=\"dataframe\">\n  <thead>\n    <tr style=\"text-align: right;\">\n      <th></th>\n      <th>ip</th>\n      <th>url</th>\n    </tr>\n  </thead>\n  <tbody>\n    <tr>\n      <th>0</th>\n      <td>123.41.24.13</td>\n      <td>admin.html</td>\n    </tr>\n    <tr>\n      <th>1</th>\n      <td>123.41.24.13</td>\n      <td>home.html</td>\n    </tr>\n    <tr>\n      <th>2</th>\n      <td>145.41.90.13</td>\n      <td>orders.html</td>\n    </tr>\n    <tr>\n      <th>3</th>\n      <td>123.23.24.13</td>\n      <td>home.html</td>\n    </tr>\n    <tr>\n      <th>4</th>\n      <td>145.41.24.13</td>\n      <td>customres.html</td>\n    </tr>\n    <tr>\n      <th>...</th>\n      <td>...</td>\n      <td>...</td>\n    </tr>\n    <tr>\n      <th>9995</th>\n      <td>225.202.99.12</td>\n      <td>results.html</td>\n    </tr>\n    <tr>\n      <th>9996</th>\n      <td>225.202.99.12</td>\n      <td>results.html</td>\n    </tr>\n    <tr>\n      <th>9997</th>\n      <td>225.202.99.12</td>\n      <td>results.html</td>\n    </tr>\n    <tr>\n      <th>9998</th>\n      <td>225.202.99.12</td>\n      <td>results.html</td>\n    </tr>\n    <tr>\n      <th>9999</th>\n      <td>225.202.99.12</td>\n      <td>results.html</td>\n    </tr>\n  </tbody>\n</table>\n<p>10000 rows × 2 columns</p>\n</div>"
     },
     "metadata": {},
     "execution_count": 22
    }
   ],
   "source": [
    "df[['ip', 'url']]"
   ]
  },
  {
   "cell_type": "markdown",
   "metadata": {},
   "source": [
    "display the IPs (unique)"
   ]
  },
  {
   "cell_type": "code",
   "execution_count": 23,
   "metadata": {},
   "outputs": [
    {
     "output_type": "execute_result",
     "data": {
      "text/plain": "array(['123.41.24.13', '145.41.90.13', '123.23.24.13', '145.41.24.13',\n       '145.23.24.17', '145.23.90.17', '123.41.90.13', '123.23.90.17',\n       '123.23.24.17', '145.23.90.13', '123.41.90.17', '123.41.24.17',\n       '145.41.24.17', '123.23.90.13', '145.41.90.17', '145.23.24.13',\n       '145.41.134.18', '145.41.24.18', '145.41.134.17', '145.72.24.17',\n       '170.72.134.18', '170.41.24.17', '170.41.134.18', '170.41.134.17',\n       '145.72.24.18', '145.72.134.17', '170.41.24.18', '170.72.24.18',\n       '145.72.134.18', '170.72.134.17', '170.72.24.17', '170.134.11.18',\n       '212.134.134.18', '212.72.11.18', '212.134.11.19', '170.72.11.19',\n       '170.72.11.18', '212.134.134.19', '170.134.134.18',\n       '212.72.134.18', '170.134.11.19', '170.134.134.19',\n       '212.72.134.19', '212.72.11.19', '170.72.134.19', '212.134.11.18',\n       '225.202.11.19', '225.202.99.12', '225.134.99.12', '212.134.99.19',\n       '212.202.99.19', '212.202.11.19', '212.202.99.12', '212.134.99.12',\n       '225.202.99.19', '212.202.11.12', '212.134.11.12', '225.134.99.19',\n       '225.134.11.19', '225.134.11.12', '225.202.11.12'], dtype=object)"
     },
     "metadata": {},
     "execution_count": 23
    }
   ],
   "source": [
    "df.ip.unique()"
   ]
  },
  {
   "cell_type": "markdown",
   "metadata": {},
   "source": [
    "Count the rows per date"
   ]
  },
  {
   "cell_type": "code",
   "execution_count": 24,
   "metadata": {},
   "outputs": [
    {
     "output_type": "execute_result",
     "data": {
      "text/plain": "           user  time   ip  url\ndt                             \n1/3/2017    335   335  335  335\n10/3/2017    27    27   27   27\n11/3/2017    28    28   28   28\n12/3/2017   334   334  334  334\n13/3/2017   577   577  577  577\n14/3/2017   618   618  618  618\n15/3/2017   315   315  315  315\n16/3/2017   319   319  319  319\n17/3/2017    33    33   33   33\n18/3/2017    26    26   26   26\n19/3/2017   310   310  310  310\n2/3/2017    323   323  323  323\n20/3/2017   602   602  602  602\n21/3/2017   599   599  599  599\n22/3/2017   321   321  321  321\n23/3/2017   325   325  325  325\n24/3/2017    39    39   39   39\n25/3/2017    22    22   22   22\n26/3/2017   323   323  323  323\n27/3/2017   620   620  620  620\n28/3/2017   638   638  638  638\n29/3/2017   353   353  353  353\n3/3/2017     43    43   43   43\n30/3/2017   324   324  324  324\n31/3/2017    29    29   29   29\n4/3/2017     38    38   38   38\n5/3/2017    637   637  637  637\n6/3/2017    568   568  568  568\n7/3/2017    662   662  662  662\n8/3/2017    290   290  290  290\n9/3/2017    322   322  322  322",
      "text/html": "<div>\n<style scoped>\n    .dataframe tbody tr th:only-of-type {\n        vertical-align: middle;\n    }\n\n    .dataframe tbody tr th {\n        vertical-align: top;\n    }\n\n    .dataframe thead th {\n        text-align: right;\n    }\n</style>\n<table border=\"1\" class=\"dataframe\">\n  <thead>\n    <tr style=\"text-align: right;\">\n      <th></th>\n      <th>user</th>\n      <th>time</th>\n      <th>ip</th>\n      <th>url</th>\n    </tr>\n    <tr>\n      <th>dt</th>\n      <th></th>\n      <th></th>\n      <th></th>\n      <th></th>\n    </tr>\n  </thead>\n  <tbody>\n    <tr>\n      <th>1/3/2017</th>\n      <td>335</td>\n      <td>335</td>\n      <td>335</td>\n      <td>335</td>\n    </tr>\n    <tr>\n      <th>10/3/2017</th>\n      <td>27</td>\n      <td>27</td>\n      <td>27</td>\n      <td>27</td>\n    </tr>\n    <tr>\n      <th>11/3/2017</th>\n      <td>28</td>\n      <td>28</td>\n      <td>28</td>\n      <td>28</td>\n    </tr>\n    <tr>\n      <th>12/3/2017</th>\n      <td>334</td>\n      <td>334</td>\n      <td>334</td>\n      <td>334</td>\n    </tr>\n    <tr>\n      <th>13/3/2017</th>\n      <td>577</td>\n      <td>577</td>\n      <td>577</td>\n      <td>577</td>\n    </tr>\n    <tr>\n      <th>14/3/2017</th>\n      <td>618</td>\n      <td>618</td>\n      <td>618</td>\n      <td>618</td>\n    </tr>\n    <tr>\n      <th>15/3/2017</th>\n      <td>315</td>\n      <td>315</td>\n      <td>315</td>\n      <td>315</td>\n    </tr>\n    <tr>\n      <th>16/3/2017</th>\n      <td>319</td>\n      <td>319</td>\n      <td>319</td>\n      <td>319</td>\n    </tr>\n    <tr>\n      <th>17/3/2017</th>\n      <td>33</td>\n      <td>33</td>\n      <td>33</td>\n      <td>33</td>\n    </tr>\n    <tr>\n      <th>18/3/2017</th>\n      <td>26</td>\n      <td>26</td>\n      <td>26</td>\n      <td>26</td>\n    </tr>\n    <tr>\n      <th>19/3/2017</th>\n      <td>310</td>\n      <td>310</td>\n      <td>310</td>\n      <td>310</td>\n    </tr>\n    <tr>\n      <th>2/3/2017</th>\n      <td>323</td>\n      <td>323</td>\n      <td>323</td>\n      <td>323</td>\n    </tr>\n    <tr>\n      <th>20/3/2017</th>\n      <td>602</td>\n      <td>602</td>\n      <td>602</td>\n      <td>602</td>\n    </tr>\n    <tr>\n      <th>21/3/2017</th>\n      <td>599</td>\n      <td>599</td>\n      <td>599</td>\n      <td>599</td>\n    </tr>\n    <tr>\n      <th>22/3/2017</th>\n      <td>321</td>\n      <td>321</td>\n      <td>321</td>\n      <td>321</td>\n    </tr>\n    <tr>\n      <th>23/3/2017</th>\n      <td>325</td>\n      <td>325</td>\n      <td>325</td>\n      <td>325</td>\n    </tr>\n    <tr>\n      <th>24/3/2017</th>\n      <td>39</td>\n      <td>39</td>\n      <td>39</td>\n      <td>39</td>\n    </tr>\n    <tr>\n      <th>25/3/2017</th>\n      <td>22</td>\n      <td>22</td>\n      <td>22</td>\n      <td>22</td>\n    </tr>\n    <tr>\n      <th>26/3/2017</th>\n      <td>323</td>\n      <td>323</td>\n      <td>323</td>\n      <td>323</td>\n    </tr>\n    <tr>\n      <th>27/3/2017</th>\n      <td>620</td>\n      <td>620</td>\n      <td>620</td>\n      <td>620</td>\n    </tr>\n    <tr>\n      <th>28/3/2017</th>\n      <td>638</td>\n      <td>638</td>\n      <td>638</td>\n      <td>638</td>\n    </tr>\n    <tr>\n      <th>29/3/2017</th>\n      <td>353</td>\n      <td>353</td>\n      <td>353</td>\n      <td>353</td>\n    </tr>\n    <tr>\n      <th>3/3/2017</th>\n      <td>43</td>\n      <td>43</td>\n      <td>43</td>\n      <td>43</td>\n    </tr>\n    <tr>\n      <th>30/3/2017</th>\n      <td>324</td>\n      <td>324</td>\n      <td>324</td>\n      <td>324</td>\n    </tr>\n    <tr>\n      <th>31/3/2017</th>\n      <td>29</td>\n      <td>29</td>\n      <td>29</td>\n      <td>29</td>\n    </tr>\n    <tr>\n      <th>4/3/2017</th>\n      <td>38</td>\n      <td>38</td>\n      <td>38</td>\n      <td>38</td>\n    </tr>\n    <tr>\n      <th>5/3/2017</th>\n      <td>637</td>\n      <td>637</td>\n      <td>637</td>\n      <td>637</td>\n    </tr>\n    <tr>\n      <th>6/3/2017</th>\n      <td>568</td>\n      <td>568</td>\n      <td>568</td>\n      <td>568</td>\n    </tr>\n    <tr>\n      <th>7/3/2017</th>\n      <td>662</td>\n      <td>662</td>\n      <td>662</td>\n      <td>662</td>\n    </tr>\n    <tr>\n      <th>8/3/2017</th>\n      <td>290</td>\n      <td>290</td>\n      <td>290</td>\n      <td>290</td>\n    </tr>\n    <tr>\n      <th>9/3/2017</th>\n      <td>322</td>\n      <td>322</td>\n      <td>322</td>\n      <td>322</td>\n    </tr>\n  </tbody>\n</table>\n</div>"
     },
     "metadata": {},
     "execution_count": 24
    }
   ],
   "source": [
    "df.groupby('dt').count()"
   ]
  },
  {
   "cell_type": "markdown",
   "metadata": {},
   "source": [
    "how many times users visited each url?"
   ]
  },
  {
   "cell_type": "code",
   "execution_count": 16,
   "metadata": {},
   "outputs": [
    {
     "output_type": "execute_result",
     "data": {
      "text/plain": "              url  visits\n0      admin.html    2235\n1  customres.html     120\n2       home.html     150\n3    newuser.html    1262\n4   notfound.html     126\n5     orders.html     520\n6    results.html    2803\n7     search.html    2784",
      "text/html": "<div>\n<style scoped>\n    .dataframe tbody tr th:only-of-type {\n        vertical-align: middle;\n    }\n\n    .dataframe tbody tr th {\n        vertical-align: top;\n    }\n\n    .dataframe thead th {\n        text-align: right;\n    }\n</style>\n<table border=\"1\" class=\"dataframe\">\n  <thead>\n    <tr style=\"text-align: right;\">\n      <th></th>\n      <th>url</th>\n      <th>visits</th>\n    </tr>\n  </thead>\n  <tbody>\n    <tr>\n      <th>0</th>\n      <td>admin.html</td>\n      <td>2235</td>\n    </tr>\n    <tr>\n      <th>1</th>\n      <td>customres.html</td>\n      <td>120</td>\n    </tr>\n    <tr>\n      <th>2</th>\n      <td>home.html</td>\n      <td>150</td>\n    </tr>\n    <tr>\n      <th>3</th>\n      <td>newuser.html</td>\n      <td>1262</td>\n    </tr>\n    <tr>\n      <th>4</th>\n      <td>notfound.html</td>\n      <td>126</td>\n    </tr>\n    <tr>\n      <th>5</th>\n      <td>orders.html</td>\n      <td>520</td>\n    </tr>\n    <tr>\n      <th>6</th>\n      <td>results.html</td>\n      <td>2803</td>\n    </tr>\n    <tr>\n      <th>7</th>\n      <td>search.html</td>\n      <td>2784</td>\n    </tr>\n  </tbody>\n</table>\n</div>"
     },
     "metadata": {},
     "execution_count": 16
    }
   ],
   "source": [
    "df1 = df.groupby('url').count().reset_index()\n",
    "df1 = df1.rename(columns={'user': 'visits'})\n",
    "df1[['url', 'visits']]\n"
   ]
  },
  {
   "cell_type": "markdown",
   "metadata": {},
   "source": [
    "Create a new column with the week day name"
   ]
  },
  {
   "cell_type": "code",
   "execution_count": 17,
   "metadata": {},
   "outputs": [
    {
     "output_type": "execute_result",
     "data": {
      "text/plain": "        user         dt   time             ip             url day_of_week\n0     123765  16/3/2017  13:44   123.41.24.13      admin.html    Thursday\n1     123649   6/3/2017  13:29   123.41.24.13       home.html    Saturday\n2     123740  14/3/2017  15:51   145.41.90.13     orders.html     Tuesday\n3     123811  27/3/2017   9:16   123.23.24.13       home.html      Monday\n4     123753  19/3/2017  17:54   145.41.24.13  customres.html      Sunday\n...      ...        ...    ...            ...             ...         ...\n9995  123910   7/3/2017  16:27  225.202.99.12    results.html      Monday\n9996  123669  26/3/2017  14:26  225.202.99.12    results.html      Sunday\n9997  123483  23/3/2017  13:36  225.202.99.12    results.html    Thursday\n9998  123707  10/3/2017  17:19  225.202.99.12    results.html     Tuesday\n9999  123591  12/3/2017  10:28  225.202.99.12    results.html      Sunday\n\n[10000 rows x 6 columns]",
      "text/html": "<div>\n<style scoped>\n    .dataframe tbody tr th:only-of-type {\n        vertical-align: middle;\n    }\n\n    .dataframe tbody tr th {\n        vertical-align: top;\n    }\n\n    .dataframe thead th {\n        text-align: right;\n    }\n</style>\n<table border=\"1\" class=\"dataframe\">\n  <thead>\n    <tr style=\"text-align: right;\">\n      <th></th>\n      <th>user</th>\n      <th>dt</th>\n      <th>time</th>\n      <th>ip</th>\n      <th>url</th>\n      <th>day_of_week</th>\n    </tr>\n  </thead>\n  <tbody>\n    <tr>\n      <th>0</th>\n      <td>123765</td>\n      <td>16/3/2017</td>\n      <td>13:44</td>\n      <td>123.41.24.13</td>\n      <td>admin.html</td>\n      <td>Thursday</td>\n    </tr>\n    <tr>\n      <th>1</th>\n      <td>123649</td>\n      <td>6/3/2017</td>\n      <td>13:29</td>\n      <td>123.41.24.13</td>\n      <td>home.html</td>\n      <td>Saturday</td>\n    </tr>\n    <tr>\n      <th>2</th>\n      <td>123740</td>\n      <td>14/3/2017</td>\n      <td>15:51</td>\n      <td>145.41.90.13</td>\n      <td>orders.html</td>\n      <td>Tuesday</td>\n    </tr>\n    <tr>\n      <th>3</th>\n      <td>123811</td>\n      <td>27/3/2017</td>\n      <td>9:16</td>\n      <td>123.23.24.13</td>\n      <td>home.html</td>\n      <td>Monday</td>\n    </tr>\n    <tr>\n      <th>4</th>\n      <td>123753</td>\n      <td>19/3/2017</td>\n      <td>17:54</td>\n      <td>145.41.24.13</td>\n      <td>customres.html</td>\n      <td>Sunday</td>\n    </tr>\n    <tr>\n      <th>...</th>\n      <td>...</td>\n      <td>...</td>\n      <td>...</td>\n      <td>...</td>\n      <td>...</td>\n      <td>...</td>\n    </tr>\n    <tr>\n      <th>9995</th>\n      <td>123910</td>\n      <td>7/3/2017</td>\n      <td>16:27</td>\n      <td>225.202.99.12</td>\n      <td>results.html</td>\n      <td>Monday</td>\n    </tr>\n    <tr>\n      <th>9996</th>\n      <td>123669</td>\n      <td>26/3/2017</td>\n      <td>14:26</td>\n      <td>225.202.99.12</td>\n      <td>results.html</td>\n      <td>Sunday</td>\n    </tr>\n    <tr>\n      <th>9997</th>\n      <td>123483</td>\n      <td>23/3/2017</td>\n      <td>13:36</td>\n      <td>225.202.99.12</td>\n      <td>results.html</td>\n      <td>Thursday</td>\n    </tr>\n    <tr>\n      <th>9998</th>\n      <td>123707</td>\n      <td>10/3/2017</td>\n      <td>17:19</td>\n      <td>225.202.99.12</td>\n      <td>results.html</td>\n      <td>Tuesday</td>\n    </tr>\n    <tr>\n      <th>9999</th>\n      <td>123591</td>\n      <td>12/3/2017</td>\n      <td>10:28</td>\n      <td>225.202.99.12</td>\n      <td>results.html</td>\n      <td>Sunday</td>\n    </tr>\n  </tbody>\n</table>\n<p>10000 rows × 6 columns</p>\n</div>"
     },
     "metadata": {},
     "execution_count": 17
    }
   ],
   "source": [
    "col = pd.to_datetime(df['dt'])\n",
    "df['day_of_week'] = col.dt.day_name()\n",
    "df"
   ]
  },
  {
   "cell_type": "markdown",
   "metadata": {
    "tags": []
   },
   "source": [
    "How many sessions per day?"
   ]
  },
  {
   "cell_type": "code",
   "execution_count": 55,
   "metadata": {
    "tags": []
   },
   "outputs": [
    {
     "output_type": "execute_result",
     "data": {
      "text/plain": "         date  sessions\n0  2017-01-03       335\n11 2017-02-03       323\n22 2017-03-03        43\n4  2017-03-13       577\n5  2017-03-14       618\n6  2017-03-15       315\n7  2017-03-16       319\n8  2017-03-17        33\n9  2017-03-18        26\n10 2017-03-19       310\n12 2017-03-20       602\n13 2017-03-21       599\n14 2017-03-22       321\n15 2017-03-23       325\n16 2017-03-24        39\n17 2017-03-25        22\n18 2017-03-26       323\n19 2017-03-27       620\n20 2017-03-28       638\n21 2017-03-29       353\n23 2017-03-30       324\n24 2017-03-31        29\n25 2017-04-03        38\n26 2017-05-03       637\n27 2017-06-03       568\n28 2017-07-03       662\n29 2017-08-03       290\n30 2017-09-03       322\n1  2017-10-03        27\n2  2017-11-03        28\n3  2017-12-03       334",
      "text/html": "<div>\n<style scoped>\n    .dataframe tbody tr th:only-of-type {\n        vertical-align: middle;\n    }\n\n    .dataframe tbody tr th {\n        vertical-align: top;\n    }\n\n    .dataframe thead th {\n        text-align: right;\n    }\n</style>\n<table border=\"1\" class=\"dataframe\">\n  <thead>\n    <tr style=\"text-align: right;\">\n      <th></th>\n      <th>date</th>\n      <th>sessions</th>\n    </tr>\n  </thead>\n  <tbody>\n    <tr>\n      <th>0</th>\n      <td>2017-01-03</td>\n      <td>335</td>\n    </tr>\n    <tr>\n      <th>11</th>\n      <td>2017-02-03</td>\n      <td>323</td>\n    </tr>\n    <tr>\n      <th>22</th>\n      <td>2017-03-03</td>\n      <td>43</td>\n    </tr>\n    <tr>\n      <th>4</th>\n      <td>2017-03-13</td>\n      <td>577</td>\n    </tr>\n    <tr>\n      <th>5</th>\n      <td>2017-03-14</td>\n      <td>618</td>\n    </tr>\n    <tr>\n      <th>6</th>\n      <td>2017-03-15</td>\n      <td>315</td>\n    </tr>\n    <tr>\n      <th>7</th>\n      <td>2017-03-16</td>\n      <td>319</td>\n    </tr>\n    <tr>\n      <th>8</th>\n      <td>2017-03-17</td>\n      <td>33</td>\n    </tr>\n    <tr>\n      <th>9</th>\n      <td>2017-03-18</td>\n      <td>26</td>\n    </tr>\n    <tr>\n      <th>10</th>\n      <td>2017-03-19</td>\n      <td>310</td>\n    </tr>\n    <tr>\n      <th>12</th>\n      <td>2017-03-20</td>\n      <td>602</td>\n    </tr>\n    <tr>\n      <th>13</th>\n      <td>2017-03-21</td>\n      <td>599</td>\n    </tr>\n    <tr>\n      <th>14</th>\n      <td>2017-03-22</td>\n      <td>321</td>\n    </tr>\n    <tr>\n      <th>15</th>\n      <td>2017-03-23</td>\n      <td>325</td>\n    </tr>\n    <tr>\n      <th>16</th>\n      <td>2017-03-24</td>\n      <td>39</td>\n    </tr>\n    <tr>\n      <th>17</th>\n      <td>2017-03-25</td>\n      <td>22</td>\n    </tr>\n    <tr>\n      <th>18</th>\n      <td>2017-03-26</td>\n      <td>323</td>\n    </tr>\n    <tr>\n      <th>19</th>\n      <td>2017-03-27</td>\n      <td>620</td>\n    </tr>\n    <tr>\n      <th>20</th>\n      <td>2017-03-28</td>\n      <td>638</td>\n    </tr>\n    <tr>\n      <th>21</th>\n      <td>2017-03-29</td>\n      <td>353</td>\n    </tr>\n    <tr>\n      <th>23</th>\n      <td>2017-03-30</td>\n      <td>324</td>\n    </tr>\n    <tr>\n      <th>24</th>\n      <td>2017-03-31</td>\n      <td>29</td>\n    </tr>\n    <tr>\n      <th>25</th>\n      <td>2017-04-03</td>\n      <td>38</td>\n    </tr>\n    <tr>\n      <th>26</th>\n      <td>2017-05-03</td>\n      <td>637</td>\n    </tr>\n    <tr>\n      <th>27</th>\n      <td>2017-06-03</td>\n      <td>568</td>\n    </tr>\n    <tr>\n      <th>28</th>\n      <td>2017-07-03</td>\n      <td>662</td>\n    </tr>\n    <tr>\n      <th>29</th>\n      <td>2017-08-03</td>\n      <td>290</td>\n    </tr>\n    <tr>\n      <th>30</th>\n      <td>2017-09-03</td>\n      <td>322</td>\n    </tr>\n    <tr>\n      <th>1</th>\n      <td>2017-10-03</td>\n      <td>27</td>\n    </tr>\n    <tr>\n      <th>2</th>\n      <td>2017-11-03</td>\n      <td>28</td>\n    </tr>\n    <tr>\n      <th>3</th>\n      <td>2017-12-03</td>\n      <td>334</td>\n    </tr>\n  </tbody>\n</table>\n</div>"
     },
     "metadata": {},
     "execution_count": 55
    }
   ],
   "source": [
    "res = df.groupby(by='dt', as_index=False).ip.agg('count')\n",
    "res['date'] = pd.to_datetime(res.dt)\n",
    "res.sort_values(by=['date'], inplace=True, ascending=True)\n",
    "res = res.rename(columns={'ip': 'sessions'})\n",
    "res[['date', 'sessions']]\n"
   ]
  },
  {
   "cell_type": "markdown",
   "metadata": {},
   "source": [
    "How many sessions per day per IP"
   ]
  },
  {
   "cell_type": "code",
   "execution_count": 62,
   "metadata": {
    "tags": []
   },
   "outputs": [
    {
     "output_type": "execute_result",
     "data": {
      "text/plain": "            dt             ip   0\n0     1/3/2017   123.23.24.13   4\n1     1/3/2017   123.23.24.17   1\n2     1/3/2017   123.23.90.13   1\n3     1/3/2017   123.23.90.17   3\n4     1/3/2017   123.41.24.13   3\n...        ...            ...  ..\n1312  9/3/2017  225.134.99.19   5\n1313  9/3/2017  225.202.11.12   5\n1314  9/3/2017  225.202.11.19   5\n1315  9/3/2017  225.202.99.12  45\n1316  9/3/2017  225.202.99.19   9\n\n[1317 rows x 3 columns]",
      "text/html": "<div>\n<style scoped>\n    .dataframe tbody tr th:only-of-type {\n        vertical-align: middle;\n    }\n\n    .dataframe tbody tr th {\n        vertical-align: top;\n    }\n\n    .dataframe thead th {\n        text-align: right;\n    }\n</style>\n<table border=\"1\" class=\"dataframe\">\n  <thead>\n    <tr style=\"text-align: right;\">\n      <th></th>\n      <th>dt</th>\n      <th>ip</th>\n      <th>0</th>\n    </tr>\n  </thead>\n  <tbody>\n    <tr>\n      <th>0</th>\n      <td>1/3/2017</td>\n      <td>123.23.24.13</td>\n      <td>4</td>\n    </tr>\n    <tr>\n      <th>1</th>\n      <td>1/3/2017</td>\n      <td>123.23.24.17</td>\n      <td>1</td>\n    </tr>\n    <tr>\n      <th>2</th>\n      <td>1/3/2017</td>\n      <td>123.23.90.13</td>\n      <td>1</td>\n    </tr>\n    <tr>\n      <th>3</th>\n      <td>1/3/2017</td>\n      <td>123.23.90.17</td>\n      <td>3</td>\n    </tr>\n    <tr>\n      <th>4</th>\n      <td>1/3/2017</td>\n      <td>123.41.24.13</td>\n      <td>3</td>\n    </tr>\n    <tr>\n      <th>...</th>\n      <td>...</td>\n      <td>...</td>\n      <td>...</td>\n    </tr>\n    <tr>\n      <th>1312</th>\n      <td>9/3/2017</td>\n      <td>225.134.99.19</td>\n      <td>5</td>\n    </tr>\n    <tr>\n      <th>1313</th>\n      <td>9/3/2017</td>\n      <td>225.202.11.12</td>\n      <td>5</td>\n    </tr>\n    <tr>\n      <th>1314</th>\n      <td>9/3/2017</td>\n      <td>225.202.11.19</td>\n      <td>5</td>\n    </tr>\n    <tr>\n      <th>1315</th>\n      <td>9/3/2017</td>\n      <td>225.202.99.12</td>\n      <td>45</td>\n    </tr>\n    <tr>\n      <th>1316</th>\n      <td>9/3/2017</td>\n      <td>225.202.99.19</td>\n      <td>9</td>\n    </tr>\n  </tbody>\n</table>\n<p>1317 rows × 3 columns</p>\n</div>"
     },
     "metadata": {},
     "execution_count": 62
    }
   ],
   "source": [
    "res = df.groupby(by=['dt','ip']).size().reset_index()\n",
    "res"
   ]
  },
  {
   "cell_type": "markdown",
   "metadata": {},
   "source": [
    "Create histogram for day distribution"
   ]
  },
  {
   "cell_type": "code",
   "execution_count": 29,
   "metadata": {},
   "outputs": [
    {
     "output_type": "execute_result",
     "data": {
      "text/plain": "array([[<matplotlib.axes._subplots.AxesSubplot object at 0x000000B96DE6EC08>]],\n      dtype=object)"
     },
     "metadata": {},
     "execution_count": 29
    },
    {
     "output_type": "display_data",
     "data": {
      "text/plain": "<Figure size 432x288 with 1 Axes>",
      "image/svg+xml": "<?xml version=\"1.0\" encoding=\"utf-8\" standalone=\"no\"?>\r\n<!DOCTYPE svg PUBLIC \"-//W3C//DTD SVG 1.1//EN\"\r\n  \"http://www.w3.org/Graphics/SVG/1.1/DTD/svg11.dtd\">\r\n<!-- Created with matplotlib (https://matplotlib.org/) -->\r\n<svg height=\"263.63625pt\" version=\"1.1\" viewBox=\"0 0 381.65 263.63625\" width=\"381.65pt\" xmlns=\"http://www.w3.org/2000/svg\" xmlns:xlink=\"http://www.w3.org/1999/xlink\">\r\n <defs>\r\n  <style type=\"text/css\">\r\n*{stroke-linecap:butt;stroke-linejoin:round;}\r\n  </style>\r\n </defs>\r\n <g id=\"figure_1\">\r\n  <g id=\"patch_1\">\r\n   <path d=\"M -0 263.63625 \r\nL 381.65 263.63625 \r\nL 381.65 0 \r\nL -0 0 \r\nz\r\n\" style=\"fill:none;\"/>\r\n  </g>\r\n  <g id=\"axes_1\">\r\n   <g id=\"patch_2\">\r\n    <path d=\"M 39.65 239.758125 \r\nL 374.45 239.758125 \r\nL 374.45 22.318125 \r\nL 39.65 22.318125 \r\nz\r\n\" style=\"fill:#ffffff;\"/>\r\n   </g>\r\n   <g id=\"patch_3\">\r\n    <path clip-path=\"url(#p299d965cd3)\" d=\"M 54.868182 239.758125 \r\nL 85.304545 239.758125 \r\nL 85.304545 32.672411 \r\nL 54.868182 32.672411 \r\nz\r\n\" style=\"fill:#1f77b4;\"/>\r\n   </g>\r\n   <g id=\"patch_4\">\r\n    <path clip-path=\"url(#p299d965cd3)\" d=\"M 85.304545 239.758125 \r\nL 115.740909 239.758125 \r\nL 115.740909 239.758125 \r\nL 85.304545 239.758125 \r\nz\r\n\" style=\"fill:#1f77b4;\"/>\r\n   </g>\r\n   <g id=\"patch_5\">\r\n    <path clip-path=\"url(#p299d965cd3)\" d=\"M 115.740909 239.758125 \r\nL 146.177273 239.758125 \r\nL 146.177273 239.758125 \r\nL 115.740909 239.758125 \r\nz\r\n\" style=\"fill:#1f77b4;\"/>\r\n   </g>\r\n   <g id=\"patch_6\">\r\n    <path clip-path=\"url(#p299d965cd3)\" d=\"M 146.177273 239.758125 \r\nL 176.613636 239.758125 \r\nL 176.613636 171.150576 \r\nL 146.177273 171.150576 \r\nz\r\n\" style=\"fill:#1f77b4;\"/>\r\n   </g>\r\n   <g id=\"patch_7\">\r\n    <path clip-path=\"url(#p299d965cd3)\" d=\"M 176.613636 239.758125 \r\nL 207.05 239.758125 \r\nL 207.05 203.358806 \r\nL 176.613636 203.358806 \r\nz\r\n\" style=\"fill:#1f77b4;\"/>\r\n   </g>\r\n   <g id=\"patch_8\">\r\n    <path clip-path=\"url(#p299d965cd3)\" d=\"M 207.05 239.758125 \r\nL 237.486364 239.758125 \r\nL 237.486364 218.573033 \r\nL 207.05 218.573033 \r\nz\r\n\" style=\"fill:#1f77b4;\"/>\r\n   </g>\r\n   <g id=\"patch_9\">\r\n    <path clip-path=\"url(#p299d965cd3)\" d=\"M 237.486364 239.758125 \r\nL 267.922727 239.758125 \r\nL 267.922727 152.376795 \r\nL 237.486364 152.376795 \r\nz\r\n\" style=\"fill:#1f77b4;\"/>\r\n   </g>\r\n   <g id=\"patch_10\">\r\n    <path clip-path=\"url(#p299d965cd3)\" d=\"M 267.922727 239.758125 \r\nL 298.359091 239.758125 \r\nL 298.359091 217.597026 \r\nL 267.922727 217.597026 \r\nz\r\n\" style=\"fill:#1f77b4;\"/>\r\n   </g>\r\n   <g id=\"patch_11\">\r\n    <path clip-path=\"url(#p299d965cd3)\" d=\"M 298.359091 239.758125 \r\nL 328.795455 239.758125 \r\nL 328.795455 148.989477 \r\nL 298.359091 148.989477 \r\nz\r\n\" style=\"fill:#1f77b4;\"/>\r\n   </g>\r\n   <g id=\"patch_12\">\r\n    <path clip-path=\"url(#p299d965cd3)\" d=\"M 328.795455 239.758125 \r\nL 359.231818 239.758125 \r\nL 359.231818 199.22513 \r\nL 328.795455 199.22513 \r\nz\r\n\" style=\"fill:#1f77b4;\"/>\r\n   </g>\r\n   <g id=\"matplotlib.axis_1\">\r\n    <g id=\"xtick_1\">\r\n     <g id=\"line2d_1\">\r\n      <defs>\r\n       <path d=\"M 0 0 \r\nL 0 3.5 \r\n\" id=\"m7952f5f630\" style=\"stroke:#000000;stroke-width:0.8;\"/>\r\n      </defs>\r\n      <g>\r\n       <use style=\"stroke:#000000;stroke-width:0.8;\" x=\"76.608442\" xlink:href=\"#m7952f5f630\" y=\"239.758125\"/>\r\n      </g>\r\n     </g>\r\n     <g id=\"text_1\">\r\n      <!-- 5 -->\r\n      <defs>\r\n       <path d=\"M 10.796875 72.90625 \r\nL 49.515625 72.90625 \r\nL 49.515625 64.59375 \r\nL 19.828125 64.59375 \r\nL 19.828125 46.734375 \r\nQ 21.96875 47.46875 24.109375 47.828125 \r\nQ 26.265625 48.1875 28.421875 48.1875 \r\nQ 40.625 48.1875 47.75 41.5 \r\nQ 54.890625 34.8125 54.890625 23.390625 \r\nQ 54.890625 11.625 47.5625 5.09375 \r\nQ 40.234375 -1.421875 26.90625 -1.421875 \r\nQ 22.3125 -1.421875 17.546875 -0.640625 \r\nQ 12.796875 0.140625 7.71875 1.703125 \r\nL 7.71875 11.625 \r\nQ 12.109375 9.234375 16.796875 8.0625 \r\nQ 21.484375 6.890625 26.703125 6.890625 \r\nQ 35.15625 6.890625 40.078125 11.328125 \r\nQ 45.015625 15.765625 45.015625 23.390625 \r\nQ 45.015625 31 40.078125 35.4375 \r\nQ 35.15625 39.890625 26.703125 39.890625 \r\nQ 22.75 39.890625 18.8125 39.015625 \r\nQ 14.890625 38.140625 10.796875 36.28125 \r\nz\r\n\" id=\"DejaVuSans-53\"/>\r\n      </defs>\r\n      <g transform=\"translate(73.427192 254.356563)scale(0.1 -0.1)\">\r\n       <use xlink:href=\"#DejaVuSans-53\"/>\r\n      </g>\r\n     </g>\r\n    </g>\r\n    <g id=\"xtick_2\">\r\n     <g id=\"line2d_2\">\r\n      <g>\r\n       <use style=\"stroke:#000000;stroke-width:0.8;\" x=\"130.959091\" xlink:href=\"#m7952f5f630\" y=\"239.758125\"/>\r\n      </g>\r\n     </g>\r\n     <g id=\"text_2\">\r\n      <!-- 10 -->\r\n      <defs>\r\n       <path d=\"M 12.40625 8.296875 \r\nL 28.515625 8.296875 \r\nL 28.515625 63.921875 \r\nL 10.984375 60.40625 \r\nL 10.984375 69.390625 \r\nL 28.421875 72.90625 \r\nL 38.28125 72.90625 \r\nL 38.28125 8.296875 \r\nL 54.390625 8.296875 \r\nL 54.390625 0 \r\nL 12.40625 0 \r\nz\r\n\" id=\"DejaVuSans-49\"/>\r\n       <path d=\"M 31.78125 66.40625 \r\nQ 24.171875 66.40625 20.328125 58.90625 \r\nQ 16.5 51.421875 16.5 36.375 \r\nQ 16.5 21.390625 20.328125 13.890625 \r\nQ 24.171875 6.390625 31.78125 6.390625 \r\nQ 39.453125 6.390625 43.28125 13.890625 \r\nQ 47.125 21.390625 47.125 36.375 \r\nQ 47.125 51.421875 43.28125 58.90625 \r\nQ 39.453125 66.40625 31.78125 66.40625 \r\nz\r\nM 31.78125 74.21875 \r\nQ 44.046875 74.21875 50.515625 64.515625 \r\nQ 56.984375 54.828125 56.984375 36.375 \r\nQ 56.984375 17.96875 50.515625 8.265625 \r\nQ 44.046875 -1.421875 31.78125 -1.421875 \r\nQ 19.53125 -1.421875 13.0625 8.265625 \r\nQ 6.59375 17.96875 6.59375 36.375 \r\nQ 6.59375 54.828125 13.0625 64.515625 \r\nQ 19.53125 74.21875 31.78125 74.21875 \r\nz\r\n\" id=\"DejaVuSans-48\"/>\r\n      </defs>\r\n      <g transform=\"translate(124.596591 254.356563)scale(0.1 -0.1)\">\r\n       <use xlink:href=\"#DejaVuSans-49\"/>\r\n       <use x=\"63.623047\" xlink:href=\"#DejaVuSans-48\"/>\r\n      </g>\r\n     </g>\r\n    </g>\r\n    <g id=\"xtick_3\">\r\n     <g id=\"line2d_3\">\r\n      <g>\r\n       <use style=\"stroke:#000000;stroke-width:0.8;\" x=\"185.30974\" xlink:href=\"#m7952f5f630\" y=\"239.758125\"/>\r\n      </g>\r\n     </g>\r\n     <g id=\"text_3\">\r\n      <!-- 15 -->\r\n      <g transform=\"translate(178.94724 254.356563)scale(0.1 -0.1)\">\r\n       <use xlink:href=\"#DejaVuSans-49\"/>\r\n       <use x=\"63.623047\" xlink:href=\"#DejaVuSans-53\"/>\r\n      </g>\r\n     </g>\r\n    </g>\r\n    <g id=\"xtick_4\">\r\n     <g id=\"line2d_4\">\r\n      <g>\r\n       <use style=\"stroke:#000000;stroke-width:0.8;\" x=\"239.66039\" xlink:href=\"#m7952f5f630\" y=\"239.758125\"/>\r\n      </g>\r\n     </g>\r\n     <g id=\"text_4\">\r\n      <!-- 20 -->\r\n      <defs>\r\n       <path d=\"M 19.1875 8.296875 \r\nL 53.609375 8.296875 \r\nL 53.609375 0 \r\nL 7.328125 0 \r\nL 7.328125 8.296875 \r\nQ 12.9375 14.109375 22.625 23.890625 \r\nQ 32.328125 33.6875 34.8125 36.53125 \r\nQ 39.546875 41.84375 41.421875 45.53125 \r\nQ 43.3125 49.21875 43.3125 52.78125 \r\nQ 43.3125 58.59375 39.234375 62.25 \r\nQ 35.15625 65.921875 28.609375 65.921875 \r\nQ 23.96875 65.921875 18.8125 64.3125 \r\nQ 13.671875 62.703125 7.8125 59.421875 \r\nL 7.8125 69.390625 \r\nQ 13.765625 71.78125 18.9375 73 \r\nQ 24.125 74.21875 28.421875 74.21875 \r\nQ 39.75 74.21875 46.484375 68.546875 \r\nQ 53.21875 62.890625 53.21875 53.421875 \r\nQ 53.21875 48.921875 51.53125 44.890625 \r\nQ 49.859375 40.875 45.40625 35.40625 \r\nQ 44.1875 33.984375 37.640625 27.21875 \r\nQ 31.109375 20.453125 19.1875 8.296875 \r\nz\r\n\" id=\"DejaVuSans-50\"/>\r\n      </defs>\r\n      <g transform=\"translate(233.29789 254.356563)scale(0.1 -0.1)\">\r\n       <use xlink:href=\"#DejaVuSans-50\"/>\r\n       <use x=\"63.623047\" xlink:href=\"#DejaVuSans-48\"/>\r\n      </g>\r\n     </g>\r\n    </g>\r\n    <g id=\"xtick_5\">\r\n     <g id=\"line2d_5\">\r\n      <g>\r\n       <use style=\"stroke:#000000;stroke-width:0.8;\" x=\"294.011039\" xlink:href=\"#m7952f5f630\" y=\"239.758125\"/>\r\n      </g>\r\n     </g>\r\n     <g id=\"text_5\">\r\n      <!-- 25 -->\r\n      <g transform=\"translate(287.648539 254.356563)scale(0.1 -0.1)\">\r\n       <use xlink:href=\"#DejaVuSans-50\"/>\r\n       <use x=\"63.623047\" xlink:href=\"#DejaVuSans-53\"/>\r\n      </g>\r\n     </g>\r\n    </g>\r\n    <g id=\"xtick_6\">\r\n     <g id=\"line2d_6\">\r\n      <g>\r\n       <use style=\"stroke:#000000;stroke-width:0.8;\" x=\"348.361688\" xlink:href=\"#m7952f5f630\" y=\"239.758125\"/>\r\n      </g>\r\n     </g>\r\n     <g id=\"text_6\">\r\n      <!-- 30 -->\r\n      <defs>\r\n       <path d=\"M 40.578125 39.3125 \r\nQ 47.65625 37.796875 51.625 33 \r\nQ 55.609375 28.21875 55.609375 21.1875 \r\nQ 55.609375 10.40625 48.1875 4.484375 \r\nQ 40.765625 -1.421875 27.09375 -1.421875 \r\nQ 22.515625 -1.421875 17.65625 -0.515625 \r\nQ 12.796875 0.390625 7.625 2.203125 \r\nL 7.625 11.71875 \r\nQ 11.71875 9.328125 16.59375 8.109375 \r\nQ 21.484375 6.890625 26.8125 6.890625 \r\nQ 36.078125 6.890625 40.9375 10.546875 \r\nQ 45.796875 14.203125 45.796875 21.1875 \r\nQ 45.796875 27.640625 41.28125 31.265625 \r\nQ 36.765625 34.90625 28.71875 34.90625 \r\nL 20.21875 34.90625 \r\nL 20.21875 43.015625 \r\nL 29.109375 43.015625 \r\nQ 36.375 43.015625 40.234375 45.921875 \r\nQ 44.09375 48.828125 44.09375 54.296875 \r\nQ 44.09375 59.90625 40.109375 62.90625 \r\nQ 36.140625 65.921875 28.71875 65.921875 \r\nQ 24.65625 65.921875 20.015625 65.03125 \r\nQ 15.375 64.15625 9.8125 62.3125 \r\nL 9.8125 71.09375 \r\nQ 15.4375 72.65625 20.34375 73.4375 \r\nQ 25.25 74.21875 29.59375 74.21875 \r\nQ 40.828125 74.21875 47.359375 69.109375 \r\nQ 53.90625 64.015625 53.90625 55.328125 \r\nQ 53.90625 49.265625 50.4375 45.09375 \r\nQ 46.96875 40.921875 40.578125 39.3125 \r\nz\r\n\" id=\"DejaVuSans-51\"/>\r\n      </defs>\r\n      <g transform=\"translate(341.999188 254.356563)scale(0.1 -0.1)\">\r\n       <use xlink:href=\"#DejaVuSans-51\"/>\r\n       <use x=\"63.623047\" xlink:href=\"#DejaVuSans-48\"/>\r\n      </g>\r\n     </g>\r\n    </g>\r\n   </g>\r\n   <g id=\"matplotlib.axis_2\">\r\n    <g id=\"ytick_1\">\r\n     <g id=\"line2d_7\">\r\n      <defs>\r\n       <path d=\"M 0 0 \r\nL -3.5 0 \r\n\" id=\"m14fcc3d557\" style=\"stroke:#000000;stroke-width:0.8;\"/>\r\n      </defs>\r\n      <g>\r\n       <use style=\"stroke:#000000;stroke-width:0.8;\" x=\"39.65\" xlink:href=\"#m14fcc3d557\" y=\"239.758125\"/>\r\n      </g>\r\n     </g>\r\n     <g id=\"text_7\">\r\n      <!-- 0 -->\r\n      <g transform=\"translate(26.2875 243.557344)scale(0.1 -0.1)\">\r\n       <use xlink:href=\"#DejaVuSans-48\"/>\r\n      </g>\r\n     </g>\r\n    </g>\r\n    <g id=\"ytick_2\">\r\n     <g id=\"line2d_8\">\r\n      <g>\r\n       <use style=\"stroke:#000000;stroke-width:0.8;\" x=\"39.65\" xlink:href=\"#m14fcc3d557\" y=\"211.052038\"/>\r\n      </g>\r\n     </g>\r\n     <g id=\"text_8\">\r\n      <!-- 500 -->\r\n      <g transform=\"translate(13.5625 214.851256)scale(0.1 -0.1)\">\r\n       <use xlink:href=\"#DejaVuSans-53\"/>\r\n       <use x=\"63.623047\" xlink:href=\"#DejaVuSans-48\"/>\r\n       <use x=\"127.246094\" xlink:href=\"#DejaVuSans-48\"/>\r\n      </g>\r\n     </g>\r\n    </g>\r\n    <g id=\"ytick_3\">\r\n     <g id=\"line2d_9\">\r\n      <g>\r\n       <use style=\"stroke:#000000;stroke-width:0.8;\" x=\"39.65\" xlink:href=\"#m14fcc3d557\" y=\"182.34595\"/>\r\n      </g>\r\n     </g>\r\n     <g id=\"text_9\">\r\n      <!-- 1000 -->\r\n      <g transform=\"translate(7.2 186.145169)scale(0.1 -0.1)\">\r\n       <use xlink:href=\"#DejaVuSans-49\"/>\r\n       <use x=\"63.623047\" xlink:href=\"#DejaVuSans-48\"/>\r\n       <use x=\"127.246094\" xlink:href=\"#DejaVuSans-48\"/>\r\n       <use x=\"190.869141\" xlink:href=\"#DejaVuSans-48\"/>\r\n      </g>\r\n     </g>\r\n    </g>\r\n    <g id=\"ytick_4\">\r\n     <g id=\"line2d_10\">\r\n      <g>\r\n       <use style=\"stroke:#000000;stroke-width:0.8;\" x=\"39.65\" xlink:href=\"#m14fcc3d557\" y=\"153.639863\"/>\r\n      </g>\r\n     </g>\r\n     <g id=\"text_10\">\r\n      <!-- 1500 -->\r\n      <g transform=\"translate(7.2 157.439082)scale(0.1 -0.1)\">\r\n       <use xlink:href=\"#DejaVuSans-49\"/>\r\n       <use x=\"63.623047\" xlink:href=\"#DejaVuSans-53\"/>\r\n       <use x=\"127.246094\" xlink:href=\"#DejaVuSans-48\"/>\r\n       <use x=\"190.869141\" xlink:href=\"#DejaVuSans-48\"/>\r\n      </g>\r\n     </g>\r\n    </g>\r\n    <g id=\"ytick_5\">\r\n     <g id=\"line2d_11\">\r\n      <g>\r\n       <use style=\"stroke:#000000;stroke-width:0.8;\" x=\"39.65\" xlink:href=\"#m14fcc3d557\" y=\"124.933776\"/>\r\n      </g>\r\n     </g>\r\n     <g id=\"text_11\">\r\n      <!-- 2000 -->\r\n      <g transform=\"translate(7.2 128.732994)scale(0.1 -0.1)\">\r\n       <use xlink:href=\"#DejaVuSans-50\"/>\r\n       <use x=\"63.623047\" xlink:href=\"#DejaVuSans-48\"/>\r\n       <use x=\"127.246094\" xlink:href=\"#DejaVuSans-48\"/>\r\n       <use x=\"190.869141\" xlink:href=\"#DejaVuSans-48\"/>\r\n      </g>\r\n     </g>\r\n    </g>\r\n    <g id=\"ytick_6\">\r\n     <g id=\"line2d_12\">\r\n      <g>\r\n       <use style=\"stroke:#000000;stroke-width:0.8;\" x=\"39.65\" xlink:href=\"#m14fcc3d557\" y=\"96.227688\"/>\r\n      </g>\r\n     </g>\r\n     <g id=\"text_12\">\r\n      <!-- 2500 -->\r\n      <g transform=\"translate(7.2 100.026907)scale(0.1 -0.1)\">\r\n       <use xlink:href=\"#DejaVuSans-50\"/>\r\n       <use x=\"63.623047\" xlink:href=\"#DejaVuSans-53\"/>\r\n       <use x=\"127.246094\" xlink:href=\"#DejaVuSans-48\"/>\r\n       <use x=\"190.869141\" xlink:href=\"#DejaVuSans-48\"/>\r\n      </g>\r\n     </g>\r\n    </g>\r\n    <g id=\"ytick_7\">\r\n     <g id=\"line2d_13\">\r\n      <g>\r\n       <use style=\"stroke:#000000;stroke-width:0.8;\" x=\"39.65\" xlink:href=\"#m14fcc3d557\" y=\"67.521601\"/>\r\n      </g>\r\n     </g>\r\n     <g id=\"text_13\">\r\n      <!-- 3000 -->\r\n      <g transform=\"translate(7.2 71.32082)scale(0.1 -0.1)\">\r\n       <use xlink:href=\"#DejaVuSans-51\"/>\r\n       <use x=\"63.623047\" xlink:href=\"#DejaVuSans-48\"/>\r\n       <use x=\"127.246094\" xlink:href=\"#DejaVuSans-48\"/>\r\n       <use x=\"190.869141\" xlink:href=\"#DejaVuSans-48\"/>\r\n      </g>\r\n     </g>\r\n    </g>\r\n    <g id=\"ytick_8\">\r\n     <g id=\"line2d_14\">\r\n      <g>\r\n       <use style=\"stroke:#000000;stroke-width:0.8;\" x=\"39.65\" xlink:href=\"#m14fcc3d557\" y=\"38.815513\"/>\r\n      </g>\r\n     </g>\r\n     <g id=\"text_14\">\r\n      <!-- 3500 -->\r\n      <g transform=\"translate(7.2 42.614732)scale(0.1 -0.1)\">\r\n       <use xlink:href=\"#DejaVuSans-51\"/>\r\n       <use x=\"63.623047\" xlink:href=\"#DejaVuSans-53\"/>\r\n       <use x=\"127.246094\" xlink:href=\"#DejaVuSans-48\"/>\r\n       <use x=\"190.869141\" xlink:href=\"#DejaVuSans-48\"/>\r\n      </g>\r\n     </g>\r\n    </g>\r\n   </g>\r\n   <g id=\"patch_13\">\r\n    <path d=\"M 39.65 239.758125 \r\nL 39.65 22.318125 \r\n\" style=\"fill:none;stroke:#000000;stroke-linecap:square;stroke-linejoin:miter;stroke-width:0.8;\"/>\r\n   </g>\r\n   <g id=\"patch_14\">\r\n    <path d=\"M 374.45 239.758125 \r\nL 374.45 22.318125 \r\n\" style=\"fill:none;stroke:#000000;stroke-linecap:square;stroke-linejoin:miter;stroke-width:0.8;\"/>\r\n   </g>\r\n   <g id=\"patch_15\">\r\n    <path d=\"M 39.65 239.758125 \r\nL 374.45 239.758125 \r\n\" style=\"fill:none;stroke:#000000;stroke-linecap:square;stroke-linejoin:miter;stroke-width:0.8;\"/>\r\n   </g>\r\n   <g id=\"patch_16\">\r\n    <path d=\"M 39.65 22.318125 \r\nL 374.45 22.318125 \r\n\" style=\"fill:none;stroke:#000000;stroke-linecap:square;stroke-linejoin:miter;stroke-width:0.8;\"/>\r\n   </g>\r\n   <g id=\"text_15\">\r\n    <!-- day -->\r\n    <defs>\r\n     <path d=\"M 45.40625 46.390625 \r\nL 45.40625 75.984375 \r\nL 54.390625 75.984375 \r\nL 54.390625 0 \r\nL 45.40625 0 \r\nL 45.40625 8.203125 \r\nQ 42.578125 3.328125 38.25 0.953125 \r\nQ 33.9375 -1.421875 27.875 -1.421875 \r\nQ 17.96875 -1.421875 11.734375 6.484375 \r\nQ 5.515625 14.40625 5.515625 27.296875 \r\nQ 5.515625 40.1875 11.734375 48.09375 \r\nQ 17.96875 56 27.875 56 \r\nQ 33.9375 56 38.25 53.625 \r\nQ 42.578125 51.265625 45.40625 46.390625 \r\nz\r\nM 14.796875 27.296875 \r\nQ 14.796875 17.390625 18.875 11.75 \r\nQ 22.953125 6.109375 30.078125 6.109375 \r\nQ 37.203125 6.109375 41.296875 11.75 \r\nQ 45.40625 17.390625 45.40625 27.296875 \r\nQ 45.40625 37.203125 41.296875 42.84375 \r\nQ 37.203125 48.484375 30.078125 48.484375 \r\nQ 22.953125 48.484375 18.875 42.84375 \r\nQ 14.796875 37.203125 14.796875 27.296875 \r\nz\r\n\" id=\"DejaVuSans-100\"/>\r\n     <path d=\"M 34.28125 27.484375 \r\nQ 23.390625 27.484375 19.1875 25 \r\nQ 14.984375 22.515625 14.984375 16.5 \r\nQ 14.984375 11.71875 18.140625 8.90625 \r\nQ 21.296875 6.109375 26.703125 6.109375 \r\nQ 34.1875 6.109375 38.703125 11.40625 \r\nQ 43.21875 16.703125 43.21875 25.484375 \r\nL 43.21875 27.484375 \r\nz\r\nM 52.203125 31.203125 \r\nL 52.203125 0 \r\nL 43.21875 0 \r\nL 43.21875 8.296875 \r\nQ 40.140625 3.328125 35.546875 0.953125 \r\nQ 30.953125 -1.421875 24.3125 -1.421875 \r\nQ 15.921875 -1.421875 10.953125 3.296875 \r\nQ 6 8.015625 6 15.921875 \r\nQ 6 25.140625 12.171875 29.828125 \r\nQ 18.359375 34.515625 30.609375 34.515625 \r\nL 43.21875 34.515625 \r\nL 43.21875 35.40625 \r\nQ 43.21875 41.609375 39.140625 45 \r\nQ 35.0625 48.390625 27.6875 48.390625 \r\nQ 23 48.390625 18.546875 47.265625 \r\nQ 14.109375 46.140625 10.015625 43.890625 \r\nL 10.015625 52.203125 \r\nQ 14.9375 54.109375 19.578125 55.046875 \r\nQ 24.21875 56 28.609375 56 \r\nQ 40.484375 56 46.34375 49.84375 \r\nQ 52.203125 43.703125 52.203125 31.203125 \r\nz\r\n\" id=\"DejaVuSans-97\"/>\r\n     <path d=\"M 32.171875 -5.078125 \r\nQ 28.375 -14.84375 24.75 -17.8125 \r\nQ 21.140625 -20.796875 15.09375 -20.796875 \r\nL 7.90625 -20.796875 \r\nL 7.90625 -13.28125 \r\nL 13.1875 -13.28125 \r\nQ 16.890625 -13.28125 18.9375 -11.515625 \r\nQ 21 -9.765625 23.484375 -3.21875 \r\nL 25.09375 0.875 \r\nL 2.984375 54.6875 \r\nL 12.5 54.6875 \r\nL 29.59375 11.921875 \r\nL 46.6875 54.6875 \r\nL 56.203125 54.6875 \r\nz\r\n\" id=\"DejaVuSans-121\"/>\r\n    </defs>\r\n    <g transform=\"translate(196.012813 16.318125)scale(0.12 -0.12)\">\r\n     <use xlink:href=\"#DejaVuSans-100\"/>\r\n     <use x=\"63.476562\" xlink:href=\"#DejaVuSans-97\"/>\r\n     <use x=\"124.755859\" xlink:href=\"#DejaVuSans-121\"/>\r\n    </g>\r\n   </g>\r\n  </g>\r\n </g>\r\n <defs>\r\n  <clipPath id=\"p299d965cd3\">\r\n   <rect height=\"217.44\" width=\"334.8\" x=\"39.65\" y=\"22.318125\"/>\r\n  </clipPath>\r\n </defs>\r\n</svg>\r\n",
      "image/png": "[encoded data removed]"
     },
     "metadata": {
      "needs_background": "light"
     }
    }
   ],
   "source": [
    "df['date'] = df['dt'].astype(\"datetime64\")\n",
    "df['day'] = df[\"date\"].dt.day\n",
    "df.hist(column='day', grid=False)\n",
    "\n"
   ]
  },
  {
   "cell_type": "markdown",
   "metadata": {},
   "source": [
    "Add a new column weekday for Friday and Saturday (True if the weekday is Sat or Fri)"
   ]
  },
  {
   "cell_type": "code",
   "execution_count": 30,
   "metadata": {},
   "outputs": [
    {
     "output_type": "execute_result",
     "data": {
      "text/plain": "             dt day_of_week  dayoff\n0     16/3/2017    Thursday   False\n1      6/3/2017    Saturday    True\n2     14/3/2017     Tuesday   False\n3     27/3/2017      Monday   False\n4     19/3/2017      Sunday   False\n...         ...         ...     ...\n9995   7/3/2017      Monday   False\n9996  26/3/2017      Sunday   False\n9997  23/3/2017    Thursday   False\n9998  10/3/2017     Tuesday   False\n9999  12/3/2017      Sunday   False\n\n[10000 rows x 3 columns]",
      "text/html": "<div>\n<style scoped>\n    .dataframe tbody tr th:only-of-type {\n        vertical-align: middle;\n    }\n\n    .dataframe tbody tr th {\n        vertical-align: top;\n    }\n\n    .dataframe thead th {\n        text-align: right;\n    }\n</style>\n<table border=\"1\" class=\"dataframe\">\n  <thead>\n    <tr style=\"text-align: right;\">\n      <th></th>\n      <th>dt</th>\n      <th>day_of_week</th>\n      <th>dayoff</th>\n    </tr>\n  </thead>\n  <tbody>\n    <tr>\n      <th>0</th>\n      <td>16/3/2017</td>\n      <td>Thursday</td>\n      <td>False</td>\n    </tr>\n    <tr>\n      <th>1</th>\n      <td>6/3/2017</td>\n      <td>Saturday</td>\n      <td>True</td>\n    </tr>\n    <tr>\n      <th>2</th>\n      <td>14/3/2017</td>\n      <td>Tuesday</td>\n      <td>False</td>\n    </tr>\n    <tr>\n      <th>3</th>\n      <td>27/3/2017</td>\n      <td>Monday</td>\n      <td>False</td>\n    </tr>\n    <tr>\n      <th>4</th>\n      <td>19/3/2017</td>\n      <td>Sunday</td>\n      <td>False</td>\n    </tr>\n    <tr>\n      <th>...</th>\n      <td>...</td>\n      <td>...</td>\n      <td>...</td>\n    </tr>\n    <tr>\n      <th>9995</th>\n      <td>7/3/2017</td>\n      <td>Monday</td>\n      <td>False</td>\n    </tr>\n    <tr>\n      <th>9996</th>\n      <td>26/3/2017</td>\n      <td>Sunday</td>\n      <td>False</td>\n    </tr>\n    <tr>\n      <th>9997</th>\n      <td>23/3/2017</td>\n      <td>Thursday</td>\n      <td>False</td>\n    </tr>\n    <tr>\n      <th>9998</th>\n      <td>10/3/2017</td>\n      <td>Tuesday</td>\n      <td>False</td>\n    </tr>\n    <tr>\n      <th>9999</th>\n      <td>12/3/2017</td>\n      <td>Sunday</td>\n      <td>False</td>\n    </tr>\n  </tbody>\n</table>\n<p>10000 rows × 3 columns</p>\n</div>"
     },
     "metadata": {},
     "execution_count": 30
    }
   ],
   "source": [
    "df['dayoff'] = (df['day_of_week'] == 'Friday') | (df['day_of_week'] == 'Saturday')\n",
    "df[['dt', 'day_of_week', 'dayoff']]"
   ]
  },
  {
   "cell_type": "code",
   "execution_count": null,
   "metadata": {},
   "outputs": [],
   "source": []
  }
 ],
 "metadata": {
  "language_info": {
   "codemirror_mode": {
    "name": "ipython",
    "version": 3
   },
   "file_extension": ".py",
   "mimetype": "text/x-python",
   "name": "python",
   "nbconvert_exporter": "python",
   "pygments_lexer": "ipython3",
   "version": "3.7.4-final"
  },
  "orig_nbformat": 2,
  "kernelspec": {
   "name": "python37464bit449d0905947c4d6ca84fddfbe8e44641",
   "display_name": "Python 3.7.4 64-bit"
  }
 },
 "nbformat": 4,
 "nbformat_minor": 2
}