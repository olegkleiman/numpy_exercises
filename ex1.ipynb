{
 "cells": [
  {
   "cell_type": "markdown",
   "metadata": {},
   "source": [
    "Create a 3x3 matrix with values ranging from 0 to 8"
   ]
  },
  {
   "cell_type": "code",
   "execution_count": 7,
   "metadata": {},
   "outputs": [
    {
     "output_type": "execute_result",
     "data": {
      "text/plain": "array([[0, 1, 2],\n       [3, 4, 5],\n       [6, 7, 8]])"
     },
     "metadata": {},
     "execution_count": 7
    }
   ],
   "source": [
    "import numpy as np\n",
    "\n",
    "np.arange(0,9).reshape(3,3)"
   ]
  },
  {
   "cell_type": "markdown",
   "metadata": {},
   "source": [
    "Create a 3x3 identity matrixCreate a 3x3 identity matrix\n"
   ]
  },
  {
   "cell_type": "code",
   "execution_count": 8,
   "metadata": {},
   "outputs": [
    {
     "output_type": "execute_result",
     "data": {
      "text/plain": "array([[1., 1., 1.],\n       [1., 1., 1.],\n       [1., 1., 1.]])"
     },
     "metadata": {},
     "execution_count": 8
    }
   ],
   "source": [
    "np.ones(9).reshape(3,3)"
   ]
  },
  {
   "cell_type": "markdown",
   "metadata": {},
   "source": [
    "Use NumPy to generate a random number between 0 and 1"
   ]
  },
  {
   "cell_type": "code",
   "execution_count": null,
   "metadata": {},
   "outputs": [],
   "source": [
    "np.random.rand()np.random.rand()"
   ]
  },
  {
   "cell_type": "markdown",
   "metadata": {},
   "source": [
    "Use NumPy to generate an array of 25 random numbers sampled from a standard normal distribution"
   ]
  },
  {
   "cell_type": "code",
   "execution_count": 10,
   "metadata": {},
   "outputs": [
    {
     "output_type": "execute_result",
     "data": {
      "text/plain": "array([ 0.88738632,  0.16849264, -1.39979878, -0.7592882 , -1.43032225,\n        1.18707046,  0.59905336, -0.46532992, -0.8529349 ,  0.84198643,\n       -1.16034014,  0.4366648 , -2.20512251,  1.10347745, -0.84045217,\n       -0.37952028, -0.98134484, -0.00685027,  1.06312645,  0.25832174,\n        1.15468012,  0.41449253,  0.35584952, -0.9379746 , -1.13160141])"
     },
     "metadata": {},
     "execution_count": 10
    }
   ],
   "source": [
    "np.random.normal(0,1,25)"
   ]
  },
  {
   "cell_type": "markdown",
   "metadata": {},
   "source": [
    "Create the following matrix"
   ]
  },
  {
   "cell_type": "code",
   "execution_count": 11,
   "metadata": {},
   "outputs": [
    {
     "output_type": "execute_result",
     "data": {
      "text/plain": "array([[0.  , 0.01, 0.02, 0.03, 0.04, 0.05, 0.06, 0.07, 0.08, 0.09],\n       [0.1 , 0.11, 0.12, 0.13, 0.14, 0.15, 0.16, 0.17, 0.18, 0.19],\n       [0.2 , 0.21, 0.22, 0.23, 0.24, 0.25, 0.26, 0.27, 0.28, 0.29],\n       [0.3 , 0.31, 0.32, 0.33, 0.34, 0.35, 0.36, 0.37, 0.38, 0.39],\n       [0.4 , 0.41, 0.42, 0.43, 0.44, 0.45, 0.46, 0.47, 0.48, 0.49],\n       [0.5 , 0.51, 0.52, 0.53, 0.54, 0.55, 0.56, 0.57, 0.58, 0.59],\n       [0.6 , 0.61, 0.62, 0.63, 0.64, 0.65, 0.66, 0.67, 0.68, 0.69],\n       [0.7 , 0.71, 0.72, 0.73, 0.74, 0.75, 0.76, 0.77, 0.78, 0.79],\n       [0.8 , 0.81, 0.82, 0.83, 0.84, 0.85, 0.86, 0.87, 0.88, 0.89],\n       [0.9 , 0.91, 0.92, 0.93, 0.94, 0.95, 0.96, 0.97, 0.98, 0.99]])"
     },
     "metadata": {},
     "execution_count": 11
    }
   ],
   "source": [
    "np.arange(0, 1, 0.01).reshape(10,10)"
   ]
  },
  {
   "cell_type": "markdown",
   "metadata": {},
   "source": [
    "Create an array of 20 linearly spaced points between 0 and 1"
   ]
  },
  {
   "cell_type": "code",
   "execution_count": 12,
   "metadata": {},
   "outputs": [
    {
     "output_type": "execute_result",
     "data": {
      "text/plain": "array([0.        , 0.05263158, 0.10526316, 0.15789474, 0.21052632,\n       0.26315789, 0.31578947, 0.36842105, 0.42105263, 0.47368421,\n       0.52631579, 0.57894737, 0.63157895, 0.68421053, 0.73684211,\n       0.78947368, 0.84210526, 0.89473684, 0.94736842, 1.        ])"
     },
     "metadata": {},
     "execution_count": 12
    }
   ],
   "source": [
    "np.linspace(0,1,20)"
   ]
  },
  {
   "cell_type": "markdown",
   "metadata": {},
   "source": [
    "Write a function that takes as input a 2-D ndarray and scales the last row and column by 2"
   ]
  },
  {
   "cell_type": "code",
   "execution_count": 14,
   "metadata": {},
   "outputs": [
    {
     "output_type": "execute_result",
     "data": {
      "text/plain": "array([[ 0,  1,  2,  6],\n       [ 4,  5,  6, 14],\n       [16, 18, 20, 44]])"
     },
     "metadata": {},
     "execution_count": 14
    }
   ],
   "source": [
    "def scale_br(arr):\n",
    "    rows = arr.shape[0]\n",
    "    columns = arr.shape[1]\n",
    "    arr[rows-1] = arr[rows-1] * 2\n",
    "    arr[:,columns-1] = arr[:,columns-1]  * 2\n",
    "    return arr\n",
    "\n",
    "a = np.arange(0,12).reshape(3,4)\n",
    "b = scale_br(a)\n",
    "b"
   ]
  },
  {
   "cell_type": "markdown",
   "metadata": {},
   "source": [
    "Create a numpy array with 100 numbers from 1 to 20. You are not allowed to use any loop"
   ]
  },
  {
   "cell_type": "code",
   "execution_count": 15,
   "metadata": {},
   "outputs": [
    {
     "output_type": "execute_result",
     "data": {
      "text/plain": "array([ 2,  2, 15, 11,  9, 12, 16,  4, 18,  5, 16, 10,  4,  4,  4, 15,  4,\n        8, 10, 19, 17,  5,  3, 12,  2,  3,  1,  4,  2, 17, 15, 13,  6,  4,\n        5,  2, 14, 17,  9, 19,  8,  7, 11,  3,  9,  8, 18, 15,  6,  3, 17,\n        1, 17,  5, 17,  1,  2, 13, 13,  4, 18, 12,  3,  1,  2,  5, 19,  9,\n       17, 13, 16,  3,  2,  4,  9, 13,  7,  5, 17, 16,  8,  4,  2, 19,  2,\n       12,  8, 17,  2,  3, 17,  6,  9, 19,  1,  2, 18,  7, 14, 15])"
     },
     "metadata": {},
     "execution_count": 15
    }
   ],
   "source": [
    "np.random.randint(1,20, 100)"
   ]
  },
  {
   "cell_type": "markdown",
   "metadata": {},
   "source": [
    "Create a numpy array containing the sine of the numbers from the above array."
   ]
  },
  {
   "cell_type": "code",
   "execution_count": 16,
   "metadata": {},
   "outputs": [
    {
     "output_type": "execute_result",
     "data": {
      "text/plain": "array([-0.54402111,  0.98935825, -0.53657292,  0.65028784, -0.54402111,\n       -0.75098725, -0.54402111,  0.65028784,  0.90929743, -0.96139749,\n        0.6569866 , -0.7568025 , -0.75098725, -0.7568025 ,  0.98935825,\n        0.14112001, -0.53657292, -0.2794155 , -0.75098725, -0.54402111,\n        0.84147098,  0.84147098,  0.14987721, -0.53657292, -0.53657292,\n        0.98935825, -0.95892427, -0.54402111, -0.75098725, -0.75098725,\n       -0.28790332,  0.41211849,  0.14987721,  0.42016704, -0.96139749,\n        0.98935825,  0.98935825,  0.90929743, -0.75098725,  0.99060736,\n        0.42016704, -0.2794155 , -0.54402111, -0.28790332,  0.84147098,\n        0.6569866 ,  0.42016704, -0.96139749, -0.7568025 , -0.7568025 ,\n       -0.95892427,  0.90929743,  0.90929743,  0.84147098,  0.90929743,\n        0.14987721, -0.28790332,  0.14987721, -0.95892427,  0.84147098,\n        0.99060736,  0.99060736, -0.28790332,  0.99060736,  0.90929743,\n       -0.53657292,  0.42016704,  0.41211849, -0.53657292,  0.41211849,\n       -0.2794155 , -0.95892427,  0.65028784, -0.75098725,  0.6569866 ,\n        0.98935825, -0.7568025 ,  0.99060736,  0.65028784, -0.99999021,\n       -0.53657292,  0.41211849,  0.14112001,  0.6569866 ,  0.14112001,\n        0.90929743, -0.96139749,  0.99060736, -0.53657292,  0.14987721,\n        0.14987721,  0.84147098,  0.14112001, -0.96139749, -0.2794155 ,\n       -0.7568025 ,  0.14987721, -0.54402111,  0.14987721,  0.84147098])"
     },
     "metadata": {},
     "execution_count": 16
    }
   ],
   "source": [
    "np.sin( np.random.randint(1,20, 100) )"
   ]
  },
  {
   "cell_type": "markdown",
   "metadata": {},
   "source": [
    "Compute the dot product of arrays 1,2,3,4 and cos(1),cos(2), cos(3), but first you have to reshape them into  2-dimensional arrays"
   ]
  },
  {
   "cell_type": "code",
   "execution_count": 17,
   "metadata": {},
   "outputs": [
    {
     "output_type": "execute_result",
     "data": {
      "text/plain": "array([[ 0.54030231, -0.41614684, -0.9899925 ],\n       [ 1.08060461, -0.83229367, -1.97998499],\n       [ 1.62090692, -1.24844051, -2.96997749],\n       [ 2.16120922, -1.66458735, -3.95996999]])"
     },
     "metadata": {},
     "execution_count": 17
    }
   ],
   "source": [
    "a = np.array([1,2,3,4]).reshape(4,1)\n",
    "b = np.cos([1,2,3]).reshape(1,3)\n",
    "np.dot(a,b)"
   ]
  },
  {
   "cell_type": "markdown",
   "metadata": {},
   "source": [
    "Create two arbitrary numpy arrays (3,3) - A, B"
   ]
  },
  {
   "cell_type": "code",
   "execution_count": 19,
   "metadata": {},
   "outputs": [],
   "source": [
    "A = np.random.randint(1,20, (3,3))\n",
    "B = np.arange(0,9).reshape(3,3)"
   ]
  },
  {
   "cell_type": "markdown",
   "metadata": {},
   "source": [
    "Normalize the matrix B by adding a constant c that makes its minimum be equal to 0"
   ]
  },
  {
   "cell_type": "code",
   "execution_count": 21,
   "metadata": {},
   "outputs": [
    {
     "output_type": "execute_result",
     "data": {
      "text/plain": "array([[0.        , 0.33333333, 0.66666667],\n       [0.25      , 0.33333333, 0.41666667],\n       [0.28571429, 0.33333333, 0.38095238]])"
     },
     "metadata": {},
     "execution_count": 21
    }
   ],
   "source": [
    "row_sums = B.sum(axis=1)\n",
    "C = B / row_sums[:, np.newaxis]\n",
    "C"
   ]
  },
  {
   "cell_type": "markdown",
   "metadata": {},
   "source": [
    "Solve the following equations:\n",
    "X + 2Y = 3\n",
    "3X + 4Y = 0"
   ]
  },
  {
   "cell_type": "code",
   "execution_count": 22,
   "metadata": {},
   "outputs": [
    {
     "output_type": "execute_result",
     "data": {
      "text/plain": "array([-6. ,  4.5])"
     },
     "metadata": {},
     "execution_count": 22
    }
   ],
   "source": [
    "a = np.array([[1, 2], [3, 4]])\n",
    "b = np.array([3,0])\n",
    "np.linalg.solve(a,b)"
   ]
  },
  {
   "cell_type": "code",
   "execution_count": null,
   "metadata": {},
   "outputs": [],
   "source": []
  }
 ],
 "metadata": {
  "language_info": {
   "codemirror_mode": {
    "name": "ipython",
    "version": 3
   },
   "file_extension": ".py",
   "mimetype": "text/x-python",
   "name": "python",
   "nbconvert_exporter": "python",
   "pygments_lexer": "ipython3",
   "version": "3.7.4-final"
  },
  "orig_nbformat": 2,
  "kernelspec": {
   "name": "python37464bitf013743b323649e6a48596721b433597",
   "display_name": "Python 3.7.4 64-bit"
  }
 },
 "nbformat": 4,
 "nbformat_minor": 2
}