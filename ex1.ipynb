{
 "cells": [
  {
   "cell_type": "markdown",
   "metadata": {},
   "source": [
    "Create a 3x3 matrix with values ranging from 0 to 8"
   ]
  },
  {
   "cell_type": "code",
   "execution_count": null,
   "metadata": {},
   "outputs": [],
   "source": [
    "import numpy as np\n",
    "\n",
    "np.arange(0,9).reshape(3,3)"
   ]
  },
  {
   "cell_type": "markdown",
   "metadata": {},
   "source": [
    "Create a 3x3 identity matrixCreate a 3x3 identity matrix\n"
   ]
  },
  {
   "cell_type": "code",
   "execution_count": null,
   "metadata": {},
   "outputs": [],
   "source": [
    "np.ones(9).reshape(3,3)"
   ]
  },
  {
   "cell_type": "markdown",
   "metadata": {},
   "source": [
    "Use NumPy to generate a random number between 0 and 1"
   ]
  },
  {
   "cell_type": "code",
   "execution_count": null,
   "metadata": {},
   "outputs": [],
   "source": [
    "np.random.rand()np.random.rand()"
   ]
  },
  {
   "cell_type": "markdown",
   "metadata": {},
   "source": [
    "Use NumPy to generate an array of 25 random numbers sampled from a standard normal distribution"
   ]
  },
  {
   "cell_type": "code",
   "execution_count": null,
   "metadata": {},
   "outputs": [],
   "source": [
    "np.random.normal(0,1,25)"
   ]
  },
  {
   "cell_type": "markdown",
   "metadata": {},
   "source": [
    "Create the following matrix"
   ]
  },
  {
   "cell_type": "code",
   "execution_count": null,
   "metadata": {},
   "outputs": [],
   "source": [
    "np.arange(0, 1, 0.01).reshape(10,10)"
   ]
  },
  {
   "cell_type": "markdown",
   "metadata": {},
   "source": [
    "Create an array of 20 linearly spaced points between 0 and 1"
   ]
  },
  {
   "cell_type": "code",
   "execution_count": null,
   "metadata": {},
   "outputs": [],
   "source": [
    "np.linspace(0,1,20)"
   ]
  },
  {
   "cell_type": "markdown",
   "metadata": {},
   "source": [
    "Write a function that takes as input a 2-D ndarray and scales the last row and column by 2"
   ]
  },
  {
   "cell_type": "code",
   "execution_count": 114,
   "metadata": {},
   "outputs": [
    {
     "output_type": "execute_result",
     "data": {
      "text/plain": "array([[ 0,  1,  2,  6],\n       [ 4,  5,  6, 14],\n       [16, 18, 20, 44]])"
     },
     "metadata": {},
     "execution_count": 114
    }
   ],
   "source": [
    "def scale_br(arr):\n",
    "    rows = arr.shape[0]\n",
    "    columns = arr.shape[1]\n",
    "    arr[rows-1] = arr[rows-1] * 2\n",
    "    arr[:,columns-1] = arr[:,columns-1]  * 2\n",
    "    return arr\n",
    "\n",
    "a = np.arange(0,12).reshape(3,4)\n",
    "scale_br(a)\n"
   ]
  },
  {
   "cell_type": "markdown",
   "metadata": {},
   "source": [
    "Create a numpy array with 100 numbers from 1 to 20. You are not allowed to use any loop"
   ]
  },
  {
   "cell_type": "code",
   "execution_count": 115,
   "metadata": {},
   "outputs": [
    {
     "output_type": "execute_result",
     "data": {
      "text/plain": "array([19, 16,  2, 13,  6, 17,  1, 12, 19, 19,  4, 14, 15, 16, 16, 17,  6,\n        8, 18,  1,  2,  2, 18, 19,  9, 19, 19, 11, 19,  2,  7, 12,  6,  1,\n       10, 18, 17,  4,  5,  4,  4, 14,  5,  4, 14,  4,  2,  8,  1, 15, 14,\n       12, 14, 15,  4,  9, 14, 17,  1, 19,  9,  5,  8,  3, 17, 16,  6, 11,\n        2, 11,  3,  2, 11,  9, 19,  2, 14, 15, 19, 16, 13, 12, 12,  1,  6,\n       10, 10, 15,  9,  5,  1, 17,  3, 13, 17, 14, 19,  8,  7, 13])"
     },
     "metadata": {},
     "execution_count": 115
    }
   ],
   "source": [
    "np.random.randint(1,20, 100)"
   ]
  },
  {
   "cell_type": "markdown",
   "metadata": {},
   "source": [
    "Create a numpy array containing the sine of the numbers from the above array."
   ]
  },
  {
   "cell_type": "code",
   "execution_count": null,
   "metadata": {},
   "outputs": [],
   "source": [
    "np.sin( np.random.randint(1,20, 100) )"
   ]
  },
  {
   "cell_type": "markdown",
   "metadata": {},
   "source": [
    "Compute the dot product of arrays 1,2,3,4 and cos(1),cos(2), cos(3), but first you have to reshape them into  2-dimensional arrays"
   ]
  },
  {
   "cell_type": "code",
   "execution_count": 116,
   "metadata": {},
   "outputs": [
    {
     "output_type": "execute_result",
     "data": {
      "text/plain": "array([[ 0.54030231, -0.41614684, -0.9899925 ],\n       [ 1.08060461, -0.83229367, -1.97998499],\n       [ 1.62090692, -1.24844051, -2.96997749],\n       [ 2.16120922, -1.66458735, -3.95996999]])"
     },
     "metadata": {},
     "execution_count": 116
    }
   ],
   "source": [
    "a = np.array([1,2,3,4]).reshape(4,1)\n",
    "b = np.cos([1,2,3]).reshape(1,3)\n",
    "np.dot(a,b) # broadcasting"
   ]
  },
  {
   "cell_type": "markdown",
   "metadata": {},
   "source": [
    "Create two (arbitrary) numpy arrays (3,3) - A, B"
   ]
  },
  {
   "cell_type": "code",
   "execution_count": 111,
   "metadata": {},
   "outputs": [
    {
     "output_type": "execute_result",
     "data": {
      "text/plain": "array([[1., 2., 3.],\n       [4., 5., 6.],\n       [7., 8., 9.]])"
     },
     "metadata": {},
     "execution_count": 111
    }
   ],
   "source": [
    "A = np.random.randint(1,20, (3,3))\n",
    "B = np.arange(1,10, dtype=np.float64).reshape(3,3)\n",
    "B"
   ]
  },
  {
   "cell_type": "markdown",
   "metadata": {},
   "source": [
    "Normalize the matrix B by adding a constant c that makes its minimum be equal to 0"
   ]
  },
  {
   "cell_type": "code",
   "execution_count": 112,
   "metadata": {},
   "outputs": [
    {
     "output_type": "execute_result",
     "data": {
      "text/plain": "1.0"
     },
     "metadata": {},
     "execution_count": 112
    }
   ],
   "source": [
    "# normalization by means of sum of all alements\n",
    "B -= np.min(B) \n",
    "B /= B.sum()\n",
    "B.sum()\n"
   ]
  },
  {
   "cell_type": "markdown",
   "metadata": {},
   "source": [
    "Compute the transpose of A"
   ]
  },
  {
   "cell_type": "code",
   "execution_count": 117,
   "metadata": {},
   "outputs": [
    {
     "output_type": "execute_result",
     "data": {
      "text/plain": "array([[ 6,  7, 18],\n       [ 7, 18, 19],\n       [ 2,  4, 10]])"
     },
     "metadata": {},
     "execution_count": 117
    }
   ],
   "source": [
    "A.T"
   ]
  },
  {
   "cell_type": "markdown",
   "metadata": {},
   "source": [
    "Compute the inverse of A. Use numpy.linalg"
   ]
  },
  {
   "cell_type": "code",
   "execution_count": null,
   "metadata": {},
   "outputs": [],
   "source": [
    "np.linalg.inv(A) np.linalg.inv(A) "
   ]
  },
  {
   "cell_type": "markdown",
   "metadata": {},
   "source": [
    "Compute the determinant of A"
   ]
  },
  {
   "cell_type": "code",
   "execution_count": 118,
   "metadata": {},
   "outputs": [
    {
     "output_type": "execute_result",
     "data": {
      "text/plain": "255.99999999999994"
     },
     "metadata": {},
     "execution_count": 118
    }
   ],
   "source": [
    "np.linalg.det(A)"
   ]
  },
  {
   "cell_type": "markdown",
   "metadata": {},
   "source": [
    "Solve the following equations:\n",
    "X + 2Y = 3\n",
    "3X + 4Y = 0"
   ]
  },
  {
   "cell_type": "code",
   "execution_count": null,
   "metadata": {},
   "outputs": [],
   "source": [
    "a = np.array([[1, 2], [3, 4]])\n",
    "b = np.array([3,0])\n",
    "np.linalg.solve(a,b)"
   ]
  },
  {
   "cell_type": "code",
   "execution_count": null,
   "metadata": {},
   "outputs": [],
   "source": []
  }
 ],
 "metadata": {
  "language_info": {
   "codemirror_mode": {
    "name": "ipython",
    "version": 3
   },
   "file_extension": ".py",
   "mimetype": "text/x-python",
   "name": "python",
   "nbconvert_exporter": "python",
   "pygments_lexer": "ipython3",
   "version": "3.7.4-final"
  },
  "orig_nbformat": 2,
  "kernelspec": {
   "name": "python37464bitf013743b323649e6a48596721b433597",
   "display_name": "Python 3.7.4 64-bit"
  }
 },
 "nbformat": 4,
 "nbformat_minor": 2
}