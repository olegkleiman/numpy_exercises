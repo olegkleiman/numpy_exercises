Create a 3x3 matrix with values ranging from 0 to 8
np.arange(0, 9).reshape(3,3)
