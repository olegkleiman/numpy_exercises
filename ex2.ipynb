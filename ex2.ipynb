{
 "cells": [
  {
   "cell_type": "code",
   "execution_count": 2,
   "metadata": {},
   "outputs": [],
   "source": [
    "import numpy as np"
   ]
  },
  {
   "cell_type": "markdown",
   "metadata": {},
   "source": [
    "In this lab we use the file numpyex.txt to load data into an array\n",
    "## Sample from file:\n",
    "622,25,9,1,B,0,VH,44,33.0,658"
   ]
  },
  {
   "cell_type": "markdown",
   "metadata": {},
   "source": [
    "Create a custom data type to load the file<br>\n",
    "Name the fields: A,B,C,D,E,F,G,H,I,J"
   ]
  },
  {
   "cell_type": "code",
   "execution_count": 74,
   "metadata": {},
   "outputs": [],
   "source": [
    "schema = np.dtype([('A', np.int16), \n",
    "                ('B', np.int16),\n",
    "                ('C', np.int16),\n",
    "                ('D', np.bool_),\n",
    "                # ('E', np.unicode_, 1),\n",
    "                ('E', np.str_, 1),\n",
    "                ('F', np.int16),\n",
    "                ('G', np.unicode_,2),\n",
    "                ('H', np.int16),\n",
    "                ('I', np.float32),\n",
    "                ('J', np.int16)])                "
   ]
  },
  {
   "cell_type": "markdown",
   "metadata": {},
   "source": [
    "load the file numpyex.txt "
   ]
  },
  {
   "cell_type": "code",
   "execution_count": 76,
   "metadata": {},
   "outputs": [],
   "source": [
    "data = np.loadtxt('numpyex.txt',skiprows=0,dtype=schema,delimiter=',')"
   ]
  },
  {
   "cell_type": "markdown",
   "metadata": {},
   "source": [
    "print the array"
   ]
  },
  {
   "cell_type": "code",
   "execution_count": 77,
   "metadata": {},
   "outputs": [
    {
     "output_type": "stream",
     "name": "stdout",
     "text": "[(582, 33,  5,  True, 'B', 1, 'VL', 22, -47., 751)\n (622, 25,  9,  True, 'B', 0, 'VH', 44,  33., 658)\n (782, 35,  4, False, 'A', 2, 'H', 27, -26., 690)\n (947, 41,  4,  True, 'A', 1, 'VH', 48, -23., 316)\n (520, 18,  3,  True, 'B', 1, 'L', 33,  10.,  45)\n (420, 17, 12,  True, 'C', 1, 'VH', 46, -11., 900)\n (420, 16, 12,  True, 'B', 2, 'L', 40, -17., 369)\n (744, 30,  2,  True, 'C', 0, 'L', 40, -31., 316)\n (621, 26, 10,  True, 'B', 1, 'H', 29, -36., 430)\n (573, 24,  3, False, 'B', 2, 'H', 52,  33., 535)]\n"
    }
   ],
   "source": [
    "print(data)"
   ]
  },
  {
   "cell_type": "markdown",
   "metadata": {},
   "source": [
    "print the column E"
   ]
  },
  {
   "cell_type": "code",
   "execution_count": 157,
   "metadata": {},
   "outputs": [
    {
     "output_type": "stream",
     "name": "stdout",
     "text": "['B' 'B' 'A' 'A' 'B' 'C' 'B' 'C' 'B' 'B']\n"
    }
   ],
   "source": [
    "print( data['E'] )"
   ]
  },
  {
   "cell_type": "markdown",
   "metadata": {},
   "source": [
    "Change the values in column E<br>\n",
    "A - 1<br>\n",
    "B - 2<br>\n",
    "C - 3<br>"
   ]
  },
  {
   "cell_type": "code",
   "execution_count": 159,
   "metadata": {},
   "outputs": [],
   "source": [
    "data['E'] = np.where(data['E'] == 'A', data['E'] , 1)\n",
    "data['E'] = np.where(data['E'] == 'B', data['E'] , 2)\n",
    "data['E'] = np.where(data['E'] == 'C', data['E'] , 3)"
   ]
  },
  {
   "cell_type": "markdown",
   "metadata": {},
   "source": [
    "Convert E to int32 (create a new array)"
   ]
  },
  {
   "cell_type": "code",
   "execution_count": 89,
   "metadata": {},
   "outputs": [
    {
     "output_type": "execute_result",
     "data": {
      "text/plain": "array([66, 66, 65, 65, 66, 67, 66, 67, 66, 66], dtype=int32)"
     },
     "metadata": {},
     "execution_count": 89
    }
   ],
   "source": [
    "converted = data['E'].view(dtype=np.int32)\n",
    "converted"
   ]
  },
  {
   "cell_type": "markdown",
   "metadata": {},
   "source": [
    "Compute the mean and std for A"
   ]
  },
  {
   "cell_type": "code",
   "execution_count": 46,
   "metadata": {},
   "outputs": [
    {
     "output_type": "execute_result",
     "data": {
      "text/plain": "623.1"
     },
     "metadata": {},
     "execution_count": 46
    }
   ],
   "source": [
    "np.mean(data['A'])\n",
    "np.std(data['A'])"
   ]
  },
  {
   "cell_type": "code",
   "execution_count": null,
   "metadata": {},
   "outputs": [],
   "source": []
  },
  {
   "cell_type": "code",
   "execution_count": null,
   "metadata": {},
   "outputs": [],
   "source": []
  },
  {
   "cell_type": "markdown",
   "metadata": {},
   "source": [
    "Perform standard scalar on A"
   ]
  },
  {
   "cell_type": "code",
   "execution_count": null,
   "metadata": {},
   "outputs": [],
   "source": []
  },
  {
   "cell_type": "code",
   "execution_count": null,
   "metadata": {},
   "outputs": [],
   "source": []
  },
  {
   "cell_type": "markdown",
   "metadata": {},
   "source": [
    "Normalize B"
   ]
  },
  {
   "cell_type": "code",
   "execution_count": 47,
   "metadata": {},
   "outputs": [
    {
     "output_type": "execute_result",
     "data": {
      "text/plain": "87.41281370600079"
     },
     "metadata": {},
     "execution_count": 47
    }
   ],
   "source": [
    "np.linalg.norm( data['B'] )"
   ]
  },
  {
   "cell_type": "code",
   "execution_count": null,
   "metadata": {},
   "outputs": [],
   "source": []
  },
  {
   "cell_type": "markdown",
   "metadata": {},
   "source": [
    "Create a new array with A-E after all conversions"
   ]
  },
  {
   "cell_type": "code",
   "execution_count": 160,
   "metadata": {},
   "outputs": [
    {
     "output_type": "execute_result",
     "data": {
      "text/plain": "array([(582, 33,  5,  True, '3'), (622, 25,  9,  True, '3'),\n       (782, 35,  4, False, '3'), (947, 41,  4,  True, '3'),\n       (520, 18,  3,  True, '3'), (420, 17, 12,  True, '3'),\n       (420, 16, 12,  True, '3'), (744, 30,  2,  True, '3'),\n       (621, 26, 10,  True, '3'), (573, 24,  3, False, '3')],\n      dtype={'names':['A','B','C','D','E'], 'formats':['<i2','<i2','<i2','?','<U1'], 'offsets':[0,2,4,6,7], 'itemsize':29})"
     },
     "metadata": {},
     "execution_count": 160
    }
   ],
   "source": [
    "data[['A', 'B', 'C', 'D', 'E']]"
   ]
  },
  {
   "cell_type": "code",
   "execution_count": null,
   "metadata": {},
   "outputs": [],
   "source": []
  },
  {
   "cell_type": "code",
   "execution_count": null,
   "metadata": {},
   "outputs": [],
   "source": []
  }
 ],
 "metadata": {
  "kernelspec": {
   "display_name": "Python 3",
   "language": "python",
   "name": "python3"
  },
  "language_info": {
   "codemirror_mode": {
    "name": "ipython",
    "version": 3
   },
   "file_extension": ".py",
   "mimetype": "text/x-python",
   "name": "python",
   "nbconvert_exporter": "python",
   "pygments_lexer": "ipython3",
   "version": "3.7.4-final"
  }
 },
 "nbformat": 4,
 "nbformat_minor": 2
}