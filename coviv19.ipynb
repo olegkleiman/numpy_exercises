{
 "cells": [
  {
   "cell_type": "code",
   "execution_count": 52,
   "metadata": {},
   "outputs": [],
   "source": [
    "import io\n",
    "import numpy as np\n",
    "import pandas as pd\n",
    "import requests\n",
    "from datetime import datetime, timedelta\n"
   ]
  },
  {
   "cell_type": "code",
   "execution_count": 53,
   "metadata": {
    "tags": []
   },
   "outputs": [
    {
     "output_type": "stream",
     "name": "stdout",
     "text": "07-03-2020\n"
    }
   ],
   "source": [
    "yesterday = date.today() - timedelta(days=2)\n",
    "fmt = yesterday.strftime('%m-%d-%Y')\n",
    "print(fmt)"
   ]
  },
  {
   "cell_type": "code",
   "execution_count": 60,
   "metadata": {
    "tags": []
   },
   "outputs": [
    {
     "output_type": "stream",
     "name": "stdout",
     "text": "Requesting COVID-19 dataset for 07-03-2020 ...\n"
    },
    {
     "output_type": "execute_result",
     "data": {
      "text/plain": "         FIPS     Admin2  Province_State  Country_Region          Last_Update  \\\n0     45001.0  Abbeville  South Carolina              US  2020-07-04 04:33:51   \n1     22001.0     Acadia       Louisiana              US  2020-07-04 04:33:51   \n2     51001.0   Accomack        Virginia              US  2020-07-04 04:33:51   \n3     16001.0        Ada           Idaho              US  2020-07-04 04:33:51   \n4     19001.0      Adair            Iowa              US  2020-07-04 04:33:51   \n...       ...        ...             ...             ...                  ...   \n3792      NaN        NaN             NaN  Western Sahara  2020-07-04 04:33:51   \n3793      NaN        NaN             NaN           Yemen  2020-07-04 04:33:51   \n3794      NaN        NaN             NaN          Zambia  2020-07-04 04:33:51   \n3795      NaN        NaN             NaN        Zimbabwe  2020-07-04 04:33:51   \n3796      NaN        NaN         Unknown           Chile  2020-07-03 15:33:50   \n\n            Lat       Long_  Confirmed  Deaths  Recovered  Active  \\\n0     34.223334  -82.461707        118       0          0   118.0   \n1     30.295065  -92.414197        968      39          0   929.0   \n2     37.767072  -75.632346       1042      14          0  1028.0   \n3     43.452658 -116.241552       2507      23          0  2484.0   \n4     41.330756  -94.471059         15       0          0    15.0   \n...         ...         ...        ...     ...        ...     ...   \n3792  24.215500  -12.885800         10       1          8     1.0   \n3793  15.552727   48.516388       1240     335        536   369.0   \n3794 -13.133897   27.849332       1632      30       1348   254.0   \n3795 -19.015438   29.154857        625       7        176   442.0   \n3796        NaN         NaN          0       0        109  -109.0   \n\n                       Combined_Key  Incidence_Rate  Case-Fatality_Ratio  \n0     Abbeville, South Carolina, US      481.102459             0.000000  \n1             Acadia, Louisiana, US     1560.157950             4.028926  \n2            Accomack, Virginia, US     3224.408962             1.343570  \n3                    Ada, Idaho, US      520.570530             0.917431  \n4                   Adair, Iowa, US      209.731544             0.000000  \n...                             ...             ...                  ...  \n3792                 Western Sahara        1.674116            10.000000  \n3793                          Yemen        4.157451            27.016129  \n3794                         Zambia        8.877306             1.838235  \n3795                       Zimbabwe        4.205094             1.120000  \n3796                 Unknown, Chile             NaN                  NaN  \n\n[3797 rows x 14 columns]",
      "text/html": "<div>\n<style scoped>\n    .dataframe tbody tr th:only-of-type {\n        vertical-align: middle;\n    }\n\n    .dataframe tbody tr th {\n        vertical-align: top;\n    }\n\n    .dataframe thead th {\n        text-align: right;\n    }\n</style>\n<table border=\"1\" class=\"dataframe\">\n  <thead>\n    <tr style=\"text-align: right;\">\n      <th></th>\n      <th>FIPS</th>\n      <th>Admin2</th>\n      <th>Province_State</th>\n      <th>Country_Region</th>\n      <th>Last_Update</th>\n      <th>Lat</th>\n      <th>Long_</th>\n      <th>Confirmed</th>\n      <th>Deaths</th>\n      <th>Recovered</th>\n      <th>Active</th>\n      <th>Combined_Key</th>\n      <th>Incidence_Rate</th>\n      <th>Case-Fatality_Ratio</th>\n    </tr>\n  </thead>\n  <tbody>\n    <tr>\n      <th>0</th>\n      <td>45001.0</td>\n      <td>Abbeville</td>\n      <td>South Carolina</td>\n      <td>US</td>\n      <td>2020-07-04 04:33:51</td>\n      <td>34.223334</td>\n      <td>-82.461707</td>\n      <td>118</td>\n      <td>0</td>\n      <td>0</td>\n      <td>118.0</td>\n      <td>Abbeville, South Carolina, US</td>\n      <td>481.102459</td>\n      <td>0.000000</td>\n    </tr>\n    <tr>\n      <th>1</th>\n      <td>22001.0</td>\n      <td>Acadia</td>\n      <td>Louisiana</td>\n      <td>US</td>\n      <td>2020-07-04 04:33:51</td>\n      <td>30.295065</td>\n      <td>-92.414197</td>\n      <td>968</td>\n      <td>39</td>\n      <td>0</td>\n      <td>929.0</td>\n      <td>Acadia, Louisiana, US</td>\n      <td>1560.157950</td>\n      <td>4.028926</td>\n    </tr>\n    <tr>\n      <th>2</th>\n      <td>51001.0</td>\n      <td>Accomack</td>\n      <td>Virginia</td>\n      <td>US</td>\n      <td>2020-07-04 04:33:51</td>\n      <td>37.767072</td>\n      <td>-75.632346</td>\n      <td>1042</td>\n      <td>14</td>\n      <td>0</td>\n      <td>1028.0</td>\n      <td>Accomack, Virginia, US</td>\n      <td>3224.408962</td>\n      <td>1.343570</td>\n    </tr>\n    <tr>\n      <th>3</th>\n      <td>16001.0</td>\n      <td>Ada</td>\n      <td>Idaho</td>\n      <td>US</td>\n      <td>2020-07-04 04:33:51</td>\n      <td>43.452658</td>\n      <td>-116.241552</td>\n      <td>2507</td>\n      <td>23</td>\n      <td>0</td>\n      <td>2484.0</td>\n      <td>Ada, Idaho, US</td>\n      <td>520.570530</td>\n      <td>0.917431</td>\n    </tr>\n    <tr>\n      <th>4</th>\n      <td>19001.0</td>\n      <td>Adair</td>\n      <td>Iowa</td>\n      <td>US</td>\n      <td>2020-07-04 04:33:51</td>\n      <td>41.330756</td>\n      <td>-94.471059</td>\n      <td>15</td>\n      <td>0</td>\n      <td>0</td>\n      <td>15.0</td>\n      <td>Adair, Iowa, US</td>\n      <td>209.731544</td>\n      <td>0.000000</td>\n    </tr>\n    <tr>\n      <th>...</th>\n      <td>...</td>\n      <td>...</td>\n      <td>...</td>\n      <td>...</td>\n      <td>...</td>\n      <td>...</td>\n      <td>...</td>\n      <td>...</td>\n      <td>...</td>\n      <td>...</td>\n      <td>...</td>\n      <td>...</td>\n      <td>...</td>\n      <td>...</td>\n    </tr>\n    <tr>\n      <th>3792</th>\n      <td>NaN</td>\n      <td>NaN</td>\n      <td>NaN</td>\n      <td>Western Sahara</td>\n      <td>2020-07-04 04:33:51</td>\n      <td>24.215500</td>\n      <td>-12.885800</td>\n      <td>10</td>\n      <td>1</td>\n      <td>8</td>\n      <td>1.0</td>\n      <td>Western Sahara</td>\n      <td>1.674116</td>\n      <td>10.000000</td>\n    </tr>\n    <tr>\n      <th>3793</th>\n      <td>NaN</td>\n      <td>NaN</td>\n      <td>NaN</td>\n      <td>Yemen</td>\n      <td>2020-07-04 04:33:51</td>\n      <td>15.552727</td>\n      <td>48.516388</td>\n      <td>1240</td>\n      <td>335</td>\n      <td>536</td>\n      <td>369.0</td>\n      <td>Yemen</td>\n      <td>4.157451</td>\n      <td>27.016129</td>\n    </tr>\n    <tr>\n      <th>3794</th>\n      <td>NaN</td>\n      <td>NaN</td>\n      <td>NaN</td>\n      <td>Zambia</td>\n      <td>2020-07-04 04:33:51</td>\n      <td>-13.133897</td>\n      <td>27.849332</td>\n      <td>1632</td>\n      <td>30</td>\n      <td>1348</td>\n      <td>254.0</td>\n      <td>Zambia</td>\n      <td>8.877306</td>\n      <td>1.838235</td>\n    </tr>\n    <tr>\n      <th>3795</th>\n      <td>NaN</td>\n      <td>NaN</td>\n      <td>NaN</td>\n      <td>Zimbabwe</td>\n      <td>2020-07-04 04:33:51</td>\n      <td>-19.015438</td>\n      <td>29.154857</td>\n      <td>625</td>\n      <td>7</td>\n      <td>176</td>\n      <td>442.0</td>\n      <td>Zimbabwe</td>\n      <td>4.205094</td>\n      <td>1.120000</td>\n    </tr>\n    <tr>\n      <th>3796</th>\n      <td>NaN</td>\n      <td>NaN</td>\n      <td>Unknown</td>\n      <td>Chile</td>\n      <td>2020-07-03 15:33:50</td>\n      <td>NaN</td>\n      <td>NaN</td>\n      <td>0</td>\n      <td>0</td>\n      <td>109</td>\n      <td>-109.0</td>\n      <td>Unknown, Chile</td>\n      <td>NaN</td>\n      <td>NaN</td>\n    </tr>\n  </tbody>\n</table>\n<p>3797 rows × 14 columns</p>\n</div>"
     },
     "metadata": {},
     "execution_count": 60
    }
   ],
   "source": [
    "\n",
    "baseUrl = \"https://raw.githubusercontent.com/CSSEGISandData/COVID-19/master/csse_covid_19_data/csse_covid_19_daily_reports/\"\n",
    "url = baseUrl\n",
    "url += fmt\n",
    "url += \".csv\"\n",
    "print('Requesting COVID-19 dataset for ' + fmt + ' Please be patient!')\n",
    "s=requests.get(url).content\n",
    "df = pd.read_csv(io.StringIO(s.decode('utf-8')))\n",
    "df"
   ]
  },
  {
   "cell_type": "markdown",
   "metadata": {},
   "source": [
    "1. Write a Python program to display first 5 rows from COVID-19 dataset. Also print the dataset information and check the missing values."
   ]
  },
  {
   "cell_type": "code",
   "execution_count": 61,
   "metadata": {},
   "outputs": [
    {
     "output_type": "execute_result",
     "data": {
      "text/plain": "      FIPS     Admin2  Province_State Country_Region          Last_Update  \\\n0  45001.0  Abbeville  South Carolina             US  2020-07-04 04:33:51   \n1  22001.0     Acadia       Louisiana             US  2020-07-04 04:33:51   \n2  51001.0   Accomack        Virginia             US  2020-07-04 04:33:51   \n3  16001.0        Ada           Idaho             US  2020-07-04 04:33:51   \n4  19001.0      Adair            Iowa             US  2020-07-04 04:33:51   \n\n         Lat       Long_  Confirmed  Deaths  Recovered  Active  \\\n0  34.223334  -82.461707        118       0          0   118.0   \n1  30.295065  -92.414197        968      39          0   929.0   \n2  37.767072  -75.632346       1042      14          0  1028.0   \n3  43.452658 -116.241552       2507      23          0  2484.0   \n4  41.330756  -94.471059         15       0          0    15.0   \n\n                    Combined_Key  Incidence_Rate  Case-Fatality_Ratio  \n0  Abbeville, South Carolina, US      481.102459             0.000000  \n1          Acadia, Louisiana, US     1560.157950             4.028926  \n2         Accomack, Virginia, US     3224.408962             1.343570  \n3                 Ada, Idaho, US      520.570530             0.917431  \n4                Adair, Iowa, US      209.731544             0.000000  ",
      "text/html": "<div>\n<style scoped>\n    .dataframe tbody tr th:only-of-type {\n        vertical-align: middle;\n    }\n\n    .dataframe tbody tr th {\n        vertical-align: top;\n    }\n\n    .dataframe thead th {\n        text-align: right;\n    }\n</style>\n<table border=\"1\" class=\"dataframe\">\n  <thead>\n    <tr style=\"text-align: right;\">\n      <th></th>\n      <th>FIPS</th>\n      <th>Admin2</th>\n      <th>Province_State</th>\n      <th>Country_Region</th>\n      <th>Last_Update</th>\n      <th>Lat</th>\n      <th>Long_</th>\n      <th>Confirmed</th>\n      <th>Deaths</th>\n      <th>Recovered</th>\n      <th>Active</th>\n      <th>Combined_Key</th>\n      <th>Incidence_Rate</th>\n      <th>Case-Fatality_Ratio</th>\n    </tr>\n  </thead>\n  <tbody>\n    <tr>\n      <th>0</th>\n      <td>45001.0</td>\n      <td>Abbeville</td>\n      <td>South Carolina</td>\n      <td>US</td>\n      <td>2020-07-04 04:33:51</td>\n      <td>34.223334</td>\n      <td>-82.461707</td>\n      <td>118</td>\n      <td>0</td>\n      <td>0</td>\n      <td>118.0</td>\n      <td>Abbeville, South Carolina, US</td>\n      <td>481.102459</td>\n      <td>0.000000</td>\n    </tr>\n    <tr>\n      <th>1</th>\n      <td>22001.0</td>\n      <td>Acadia</td>\n      <td>Louisiana</td>\n      <td>US</td>\n      <td>2020-07-04 04:33:51</td>\n      <td>30.295065</td>\n      <td>-92.414197</td>\n      <td>968</td>\n      <td>39</td>\n      <td>0</td>\n      <td>929.0</td>\n      <td>Acadia, Louisiana, US</td>\n      <td>1560.157950</td>\n      <td>4.028926</td>\n    </tr>\n    <tr>\n      <th>2</th>\n      <td>51001.0</td>\n      <td>Accomack</td>\n      <td>Virginia</td>\n      <td>US</td>\n      <td>2020-07-04 04:33:51</td>\n      <td>37.767072</td>\n      <td>-75.632346</td>\n      <td>1042</td>\n      <td>14</td>\n      <td>0</td>\n      <td>1028.0</td>\n      <td>Accomack, Virginia, US</td>\n      <td>3224.408962</td>\n      <td>1.343570</td>\n    </tr>\n    <tr>\n      <th>3</th>\n      <td>16001.0</td>\n      <td>Ada</td>\n      <td>Idaho</td>\n      <td>US</td>\n      <td>2020-07-04 04:33:51</td>\n      <td>43.452658</td>\n      <td>-116.241552</td>\n      <td>2507</td>\n      <td>23</td>\n      <td>0</td>\n      <td>2484.0</td>\n      <td>Ada, Idaho, US</td>\n      <td>520.570530</td>\n      <td>0.917431</td>\n    </tr>\n    <tr>\n      <th>4</th>\n      <td>19001.0</td>\n      <td>Adair</td>\n      <td>Iowa</td>\n      <td>US</td>\n      <td>2020-07-04 04:33:51</td>\n      <td>41.330756</td>\n      <td>-94.471059</td>\n      <td>15</td>\n      <td>0</td>\n      <td>0</td>\n      <td>15.0</td>\n      <td>Adair, Iowa, US</td>\n      <td>209.731544</td>\n      <td>0.000000</td>\n    </tr>\n  </tbody>\n</table>\n</div>"
     },
     "metadata": {},
     "execution_count": 61
    }
   ],
   "source": [
    "df.head(5)"
   ]
  },
  {
   "cell_type": "code",
   "execution_count": 62,
   "metadata": {
    "tags": []
   },
   "outputs": [
    {
     "output_type": "stream",
     "name": "stdout",
     "text": "<class 'pandas.core.frame.DataFrame'>\nRangeIndex: 3797 entries, 0 to 3796\nData columns (total 14 columns):\n #   Column               Non-Null Count  Dtype  \n---  ------               --------------  -----  \n 0   FIPS                 3115 non-null   float64\n 1   Admin2               3119 non-null   object \n 2   Province_State       3628 non-null   object \n 3   Country_Region       3797 non-null   object \n 4   Last_Update          3797 non-null   object \n 5   Lat                  3723 non-null   float64\n 6   Long_                3723 non-null   float64\n 7   Confirmed            3797 non-null   int64  \n 8   Deaths               3797 non-null   int64  \n 9   Recovered            3797 non-null   int64  \n 10  Active               3793 non-null   float64\n 11  Combined_Key         3797 non-null   object \n 12  Incidence_Rate       3723 non-null   float64\n 13  Case-Fatality_Ratio  3737 non-null   float64\ndtypes: float64(6), int64(3), object(5)\nmemory usage: 415.4+ KB\n"
    }
   ],
   "source": [
    "df.info()"
   ]
  },
  {
   "cell_type": "code",
   "execution_count": 63,
   "metadata": {},
   "outputs": [
    {
     "output_type": "execute_result",
     "data": {
      "text/plain": "       FIPS  Admin2  Province_State  Country_Region  Last_Update    Lat  \\\n0     False   False           False           False        False  False   \n1     False   False           False           False        False  False   \n2     False   False           False           False        False  False   \n3     False   False           False           False        False  False   \n4     False   False           False           False        False  False   \n...     ...     ...             ...             ...          ...    ...   \n3792   True    True            True           False        False  False   \n3793   True    True            True           False        False  False   \n3794   True    True            True           False        False  False   \n3795   True    True            True           False        False  False   \n3796   True    True           False           False        False   True   \n\n      Long_  Confirmed  Deaths  Recovered  Active  Combined_Key  \\\n0     False      False   False      False   False         False   \n1     False      False   False      False   False         False   \n2     False      False   False      False   False         False   \n3     False      False   False      False   False         False   \n4     False      False   False      False   False         False   \n...     ...        ...     ...        ...     ...           ...   \n3792  False      False   False      False   False         False   \n3793  False      False   False      False   False         False   \n3794  False      False   False      False   False         False   \n3795  False      False   False      False   False         False   \n3796   True      False   False      False   False         False   \n\n      Incidence_Rate  Case-Fatality_Ratio  \n0              False                False  \n1              False                False  \n2              False                False  \n3              False                False  \n4              False                False  \n...              ...                  ...  \n3792           False                False  \n3793           False                False  \n3794           False                False  \n3795           False                False  \n3796            True                 True  \n\n[3797 rows x 14 columns]",
      "text/html": "<div>\n<style scoped>\n    .dataframe tbody tr th:only-of-type {\n        vertical-align: middle;\n    }\n\n    .dataframe tbody tr th {\n        vertical-align: top;\n    }\n\n    .dataframe thead th {\n        text-align: right;\n    }\n</style>\n<table border=\"1\" class=\"dataframe\">\n  <thead>\n    <tr style=\"text-align: right;\">\n      <th></th>\n      <th>FIPS</th>\n      <th>Admin2</th>\n      <th>Province_State</th>\n      <th>Country_Region</th>\n      <th>Last_Update</th>\n      <th>Lat</th>\n      <th>Long_</th>\n      <th>Confirmed</th>\n      <th>Deaths</th>\n      <th>Recovered</th>\n      <th>Active</th>\n      <th>Combined_Key</th>\n      <th>Incidence_Rate</th>\n      <th>Case-Fatality_Ratio</th>\n    </tr>\n  </thead>\n  <tbody>\n    <tr>\n      <th>0</th>\n      <td>False</td>\n      <td>False</td>\n      <td>False</td>\n      <td>False</td>\n      <td>False</td>\n      <td>False</td>\n      <td>False</td>\n      <td>False</td>\n      <td>False</td>\n      <td>False</td>\n      <td>False</td>\n      <td>False</td>\n      <td>False</td>\n      <td>False</td>\n    </tr>\n    <tr>\n      <th>1</th>\n      <td>False</td>\n      <td>False</td>\n      <td>False</td>\n      <td>False</td>\n      <td>False</td>\n      <td>False</td>\n      <td>False</td>\n      <td>False</td>\n      <td>False</td>\n      <td>False</td>\n      <td>False</td>\n      <td>False</td>\n      <td>False</td>\n      <td>False</td>\n    </tr>\n    <tr>\n      <th>2</th>\n      <td>False</td>\n      <td>False</td>\n      <td>False</td>\n      <td>False</td>\n      <td>False</td>\n      <td>False</td>\n      <td>False</td>\n      <td>False</td>\n      <td>False</td>\n      <td>False</td>\n      <td>False</td>\n      <td>False</td>\n      <td>False</td>\n      <td>False</td>\n    </tr>\n    <tr>\n      <th>3</th>\n      <td>False</td>\n      <td>False</td>\n      <td>False</td>\n      <td>False</td>\n      <td>False</td>\n      <td>False</td>\n      <td>False</td>\n      <td>False</td>\n      <td>False</td>\n      <td>False</td>\n      <td>False</td>\n      <td>False</td>\n      <td>False</td>\n      <td>False</td>\n    </tr>\n    <tr>\n      <th>4</th>\n      <td>False</td>\n      <td>False</td>\n      <td>False</td>\n      <td>False</td>\n      <td>False</td>\n      <td>False</td>\n      <td>False</td>\n      <td>False</td>\n      <td>False</td>\n      <td>False</td>\n      <td>False</td>\n      <td>False</td>\n      <td>False</td>\n      <td>False</td>\n    </tr>\n    <tr>\n      <th>...</th>\n      <td>...</td>\n      <td>...</td>\n      <td>...</td>\n      <td>...</td>\n      <td>...</td>\n      <td>...</td>\n      <td>...</td>\n      <td>...</td>\n      <td>...</td>\n      <td>...</td>\n      <td>...</td>\n      <td>...</td>\n      <td>...</td>\n      <td>...</td>\n    </tr>\n    <tr>\n      <th>3792</th>\n      <td>True</td>\n      <td>True</td>\n      <td>True</td>\n      <td>False</td>\n      <td>False</td>\n      <td>False</td>\n      <td>False</td>\n      <td>False</td>\n      <td>False</td>\n      <td>False</td>\n      <td>False</td>\n      <td>False</td>\n      <td>False</td>\n      <td>False</td>\n    </tr>\n    <tr>\n      <th>3793</th>\n      <td>True</td>\n      <td>True</td>\n      <td>True</td>\n      <td>False</td>\n      <td>False</td>\n      <td>False</td>\n      <td>False</td>\n      <td>False</td>\n      <td>False</td>\n      <td>False</td>\n      <td>False</td>\n      <td>False</td>\n      <td>False</td>\n      <td>False</td>\n    </tr>\n    <tr>\n      <th>3794</th>\n      <td>True</td>\n      <td>True</td>\n      <td>True</td>\n      <td>False</td>\n      <td>False</td>\n      <td>False</td>\n      <td>False</td>\n      <td>False</td>\n      <td>False</td>\n      <td>False</td>\n      <td>False</td>\n      <td>False</td>\n      <td>False</td>\n      <td>False</td>\n    </tr>\n    <tr>\n      <th>3795</th>\n      <td>True</td>\n      <td>True</td>\n      <td>True</td>\n      <td>False</td>\n      <td>False</td>\n      <td>False</td>\n      <td>False</td>\n      <td>False</td>\n      <td>False</td>\n      <td>False</td>\n      <td>False</td>\n      <td>False</td>\n      <td>False</td>\n      <td>False</td>\n    </tr>\n    <tr>\n      <th>3796</th>\n      <td>True</td>\n      <td>True</td>\n      <td>False</td>\n      <td>False</td>\n      <td>False</td>\n      <td>True</td>\n      <td>True</td>\n      <td>False</td>\n      <td>False</td>\n      <td>False</td>\n      <td>False</td>\n      <td>False</td>\n      <td>True</td>\n      <td>True</td>\n    </tr>\n  </tbody>\n</table>\n<p>3797 rows × 14 columns</p>\n</div>"
     },
     "metadata": {},
     "execution_count": 63
    }
   ],
   "source": [
    "df.isnull()"
   ]
  },
  {
   "cell_type": "code",
   "execution_count": null,
   "metadata": {},
   "outputs": [],
   "source": [
    "2. Write a Python program to get the latest number of confirmed, deaths, recovered and active cases of Novel Coronavirus (COVID-19) Country wise."
   ]
  },
  {
   "cell_type": "code",
   "execution_count": 86,
   "metadata": {},
   "outputs": [
    {
     "output_type": "execute_result",
     "data": {
      "text/plain": "         Country_Region   Active\n0           Afghanistan  14174.0\n1               Albania   1088.0\n2               Algeria   3301.0\n3               Andorra      3.0\n4                Angola    203.0\n..                  ...      ...\n183  West Bank and Gaza   2860.0\n184      Western Sahara      1.0\n185               Yemen    369.0\n186              Zambia    254.0\n187            Zimbabwe    442.0\n\n[188 rows x 2 columns]",
      "text/html": "<div>\n<style scoped>\n    .dataframe tbody tr th:only-of-type {\n        vertical-align: middle;\n    }\n\n    .dataframe tbody tr th {\n        vertical-align: top;\n    }\n\n    .dataframe thead th {\n        text-align: right;\n    }\n</style>\n<table border=\"1\" class=\"dataframe\">\n  <thead>\n    <tr style=\"text-align: right;\">\n      <th></th>\n      <th>Country_Region</th>\n      <th>Active</th>\n    </tr>\n  </thead>\n  <tbody>\n    <tr>\n      <th>0</th>\n      <td>Afghanistan</td>\n      <td>14174.0</td>\n    </tr>\n    <tr>\n      <th>1</th>\n      <td>Albania</td>\n      <td>1088.0</td>\n    </tr>\n    <tr>\n      <th>2</th>\n      <td>Algeria</td>\n      <td>3301.0</td>\n    </tr>\n    <tr>\n      <th>3</th>\n      <td>Andorra</td>\n      <td>3.0</td>\n    </tr>\n    <tr>\n      <th>4</th>\n      <td>Angola</td>\n      <td>203.0</td>\n    </tr>\n    <tr>\n      <th>...</th>\n      <td>...</td>\n      <td>...</td>\n    </tr>\n    <tr>\n      <th>183</th>\n      <td>West Bank and Gaza</td>\n      <td>2860.0</td>\n    </tr>\n    <tr>\n      <th>184</th>\n      <td>Western Sahara</td>\n      <td>1.0</td>\n    </tr>\n    <tr>\n      <th>185</th>\n      <td>Yemen</td>\n      <td>369.0</td>\n    </tr>\n    <tr>\n      <th>186</th>\n      <td>Zambia</td>\n      <td>254.0</td>\n    </tr>\n    <tr>\n      <th>187</th>\n      <td>Zimbabwe</td>\n      <td>442.0</td>\n    </tr>\n  </tbody>\n</table>\n<p>188 rows × 2 columns</p>\n</div>"
     },
     "metadata": {},
     "execution_count": 86
    }
   ],
   "source": [
    "confirmed = df.groupby('Country_Region').Confirmed.sum().reset_index()\n",
    "deaths = df.groupby('Country_Region').Deaths.sum().reset_index()\n",
    "active = df.groupby('Country_Region').Active.sum().reset_index()"
   ]
  },
  {
   "cell_type": "code",
   "execution_count": null,
   "metadata": {},
   "outputs": [],
   "source": [
    "3. Write a Python program to get the latest number of confirmed deaths and recovered people of Novel Coronavirus (COVID-19) cases Country/Region - Province/State wise."
   ]
  },
  {
   "cell_type": "code",
   "execution_count": 92,
   "metadata": {},
   "outputs": [
    {
     "output_type": "execute_result",
     "data": {
      "text/plain": "Country_Region  Province_State              \nAustralia       Australian Capital Territory       3\n                New South Wales                   49\n                Northern Territory                 0\n                Queensland                         6\n                South Australia                    4\n                                                ... \nUnited Kingdom  Northern Ireland                 552\n                Scotland                        2487\n                Turks and Caicos Islands           2\n                Unknown                            0\n                Wales                           1525\nName: Deaths, Length: 560, dtype: int64"
     },
     "metadata": {},
     "execution_count": 92
    }
   ],
   "source": [
    "df.groupby(['Country_Region', 'Province_State']).Deaths.sum()"
   ]
  },
  {
   "cell_type": "code",
   "execution_count": null,
   "metadata": {},
   "outputs": [],
   "source": []
  }
 ],
 "metadata": {
  "language_info": {
   "codemirror_mode": {
    "name": "ipython",
    "version": 3
   },
   "file_extension": ".py",
   "mimetype": "text/x-python",
   "name": "python",
   "nbconvert_exporter": "python",
   "pygments_lexer": "ipython3",
   "version": "3.7.4-final"
  },
  "orig_nbformat": 2,
  "kernelspec": {
   "name": "python37464bitf013743b323649e6a48596721b433597",
   "display_name": "Python 3.7.4 64-bit"
  }
 },
 "nbformat": 4,
 "nbformat_minor": 2
}