{
 "metadata": {
  "language_info": {
   "codemirror_mode": {
    "name": "ipython",
    "version": 3
   },
   "file_extension": ".py",
   "mimetype": "text/x-python",
   "name": "python",
   "nbconvert_exporter": "python",
   "pygments_lexer": "ipython3",
   "version": "3.7.4-final"
  },
  "orig_nbformat": 2,
  "kernelspec": {
   "name": "python37464bit449d0905947c4d6ca84fddfbe8e44641",
   "display_name": "Python 3.7.4 64-bit"
  }
 },
 "nbformat": 4,
 "nbformat_minor": 2,
 "cells": [
  {
   "cell_type": "code",
   "execution_count": 3,
   "metadata": {
    "tags": []
   },
   "outputs": [
    {
     "output_type": "stream",
     "name": "stdout",
     "text": "Number of data points :: 150\nNumber of features :: 4\n"
    }
   ],
   "source": [
    "from sklearn import datasets\n",
    "\n",
    "iris = datasets.load_iris()\n",
    "\n",
    "print (\"Number of data points ::\", X.shape[0])\n",
    "print(\"Number of features ::\", X.shape[1])"
   ]
  },
  {
   "cell_type": "code",
   "execution_count": 2,
   "metadata": {},
   "outputs": [],
   "source": [
    "X = iris.data[:, :]\n",
    "y = iris.target"
   ]
  },
  {
   "cell_type": "markdown",
   "metadata": {},
   "source": [
    "** Split your data into a training set and a testing set.**"
   ]
  },
  {
   "cell_type": "code",
   "execution_count": 5,
   "metadata": {},
   "outputs": [],
   "source": [
    "from sklearn.model_selection import train_test_split\n",
    "\n",
    "X_train, X_test, y_train, y_test = train_test_split(\n",
    "                        X, y, test_size=0.2, random_state=42)"
   ]
  },
  {
   "cell_type": "markdown",
   "metadata": {},
   "source": [
    "Fitting a Linear SVM from sklearn."
   ]
  },
  {
   "cell_type": "code",
   "execution_count": 7,
   "metadata": {
    "tags": []
   },
   "outputs": [
    {
     "output_type": "stream",
     "name": "stdout",
     "text": "Accuracy of linear SVC on training set: 0.95\nAccuracy of linear SVC on test set: 1.00\n"
    }
   ],
   "source": [
    "from sklearn.svm import LinearSVC\n",
    "\n",
    "clf = LinearSVC(penalty='l2', loss='squared_hinge',\n",
    "                dual=True, tol=0.0001, C=100, multi_class='ovr',\n",
    "                fit_intercept=True, intercept_scaling=1, class_weight=None,verbose=0\n",
    "                , random_state=0, max_iter=1000)\n",
    "clf.fit(X_train,y_train)\n",
    "\n",
    "print('Accuracy of linear SVC on training set: {:.2f}'.format(clf.score(X_train, y_train)))\n",
    "\n",
    "print('Accuracy of linear SVC on test set: {:.2f}'.format(clf.score(X_test, y_test)))"
   ]
  },
  {
   "cell_type": "markdown",
   "metadata": {},
   "source": [
    "Tune the C parameter"
   ]
  },
  {
   "cell_type": "code",
   "execution_count": 10,
   "metadata": {
    "tags": []
   },
   "outputs": [
    {
     "output_type": "stream",
     "name": "stdout",
     "text": "The best parameters are {'C': 5.777360913698984} with a score of 98\nBest estimator accuracy on test set 100.00 \n"
    }
   ],
   "source": [
    "from sklearn.model_selection import GridSearchCV\n",
    "from sklearn.metrics import classification_report\n",
    "import numpy as np\n",
    "    \n",
    "c = np.logspace(start = -15, stop = 1000, base = 1.02)\n",
    "param_grid = {'C': c}\n",
    "grid = GridSearchCV(clf, param_grid =param_grid, cv=3, n_jobs=-1, scoring='accuracy')\n",
    "grid.fit(X_train, y_train)\n",
    "\n",
    "print(\"The best parameters are %s with a score of %0.0f\" % (grid.best_params_, grid.best_score_ * 100 ))\n",
    "print( \"Best estimator accuracy on test set {:.2f} \".format(grid.best_estimator_.score(X_test, y_test) * 100 ) )\n"
   ]
  },
  {
   "cell_type": "markdown",
   "metadata": {},
   "source": [
    " Non linear SVC and see the results"
   ]
  },
  {
   "cell_type": "code",
   "execution_count": 11,
   "metadata": {
    "tags": []
   },
   "outputs": [
    {
     "output_type": "stream",
     "name": "stdout",
     "text": "Accuracy of SVC on training set: 98.33\nAccuracy of SVC on test set: 100.00\n"
    }
   ],
   "source": [
    "from sklearn.svm import SVC\n",
    "\n",
    "clf_SVC = SVC(C=100.0, kernel='rbf', degree=3, gamma='auto', coef0=0.0, shrinking=True, \n",
    "          probability=False, tol=0.001, cache_size=200, class_weight=None, \n",
    "          verbose=0, max_iter=-1, decision_function_shape=\"ovr\", random_state = 0)\n",
    "clf_SVC.fit(X_train,y_train)\n",
    "\n",
    "print('Accuracy of SVC on training set: {:.2f}'.format(clf_SVC.score(X_train, y_train) * 100))\n",
    "print('Accuracy of SVC on test set: {:.2f}'.format(clf_SVC.score(X_test, y_test) * 100))"
   ]
  },
  {
   "cell_type": "markdown",
   "metadata": {},
   "source": [
    "Tune the parameters using grid search to optmize more"
   ]
  },
  {
   "cell_type": "code",
   "execution_count": 12,
   "metadata": {
    "tags": []
   },
   "outputs": [
    {
     "output_type": "stream",
     "name": "stdout",
     "text": "the generated array of c values\n[1.00000000e+00 1.07252413e+00 1.15030800e+00 1.23373308e+00\n 1.32320850e+00 1.41917304e+00 1.52209732e+00 1.63248610e+00\n 1.75088073e+00 1.87786182e+00 2.01405211e+00 2.16011948e+00\n 2.31678026e+00 2.48480272e+00 2.66501086e+00 2.85828845e+00\n 3.06558332e+00 3.28791207e+00 3.52636502e+00 3.78211156e+00\n 4.05640590e+00 4.35059319e+00 4.66611616e+00 5.00452215e+00\n 5.36747075e+00 5.75674188e+00 6.17424455e+00 6.62202624e+00\n 7.10228290e+00 7.61736977e+00 8.16981285e+00 8.76232139e+00\n 9.39780109e+00 1.00793684e+01 1.08103658e+01 1.15943781e+01\n 1.24352503e+01 1.33371059e+01 1.43043679e+01 1.53417796e+01\n 1.64544288e+01 1.76477719e+01 1.89276611e+01 2.03003732e+01\n 2.17726400e+01 2.33516817e+01 2.50452420e+01 2.68616263e+01\n 2.88097423e+01 3.08991436e+01 3.31400770e+01 3.55435321e+01\n 3.81212958e+01 4.08860094e+01 4.38512315e+01 4.70315038e+01\n 5.04424225e+01 5.41007151e+01 5.80243221e+01 6.22324854e+01\n 6.67458420e+01 7.15865259e+01 7.67782761e+01 8.23465535e+01\n 8.83186653e+01 9.47238993e+01 1.01593667e+02 1.08961659e+02\n 1.16864008e+02 1.25339468e+02 1.34429604e+02 1.44178993e+02\n 1.54635449e+02 1.65850250e+02 1.77878394e+02 1.90778869e+02\n 2.04614940e+02 2.19454460e+02 2.35370203e+02 2.52440221e+02\n 2.70748227e+02 2.90384006e+02 3.11443852e+02 3.34031045e+02\n 3.58256355e+02 3.84238584e+02 4.12105151e+02 4.41992717e+02\n 4.74047853e+02 5.08427759e+02 5.45301038e+02 5.84848519e+02\n 6.27264147e+02 6.72755931e+02 7.21546967e+02 7.73876530e+02\n 8.30001249e+02 8.90196364e+02 9.54757077e+02 1.02400000e+03]\n\n Array of means \n\n[0.96666667 0.975      0.96666667 0.95833333 0.95833333 0.95\n 0.95       0.95       0.95       0.95       0.95       0.95\n 0.95       0.95       0.96666667 0.96666667 0.96666667 0.96666667\n 0.96666667 0.95833333 0.95833333 0.95833333 0.95       0.95\n 0.95       0.95       0.95833333 0.95833333 0.95833333 0.95833333\n 0.95833333 0.95833333 0.95833333 0.95833333 0.95833333 0.95833333\n 0.95833333 0.96666667 0.95833333 0.95833333 0.95833333 0.95833333\n 0.95833333 0.95833333 0.95833333 0.95833333 0.95833333 0.95833333\n 0.95       0.95       0.95       0.95       0.95       0.95\n 0.95       0.94166667 0.94166667 0.94166667 0.94166667 0.94166667\n 0.94166667 0.94166667 0.94166667 0.94166667 0.94166667 0.93333333\n 0.93333333 0.93333333 0.93333333 0.93333333 0.93333333 0.93333333\n 0.93333333 0.93333333 0.93333333 0.94166667 0.94166667 0.95\n 0.95       0.95       0.94166667 0.94166667 0.94166667 0.94166667\n 0.94166667 0.94166667 0.93333333 0.93333333 0.93333333 0.93333333\n 0.93333333 0.93333333 0.93333333 0.93333333 0.93333333 0.93333333\n 0.93333333 0.93333333 0.93333333 0.93333333]\n\nClassification report\n\n              precision    recall  f1-score   support\n\n           0       1.00      1.00      1.00        10\n           1       1.00      1.00      1.00         9\n           2       1.00      1.00      1.00        11\n\n    accuracy                           1.00        30\n   macro avg       1.00      1.00      1.00        30\nweighted avg       1.00      1.00      1.00        30\n\n"
    }
   ],
   "source": [
    "from sklearn.model_selection import GridSearchCV\n",
    "from sklearn.metrics import classification_report\n",
    "import numpy as np\n",
    "    \n",
    "c_SVC = np.logspace(start = 0, stop = 10, num = 100, base = 2 , dtype = 'float64')\n",
    "print( 'the generated array of c values')\n",
    "print ( c_SVC )\n",
    "param_grid_S = {'C': c_SVC}\n",
    "\n",
    "\n",
    "\n",
    "print(\"\\n Array of means \\n\")\n",
    "clf = GridSearchCV(clf_SVC, param_grid =param_grid_S, cv=20 , scoring='accuracy')\n",
    "clf.fit(X_train, y_train)\n",
    "means = clf.cv_results_['mean_test_score']\n",
    "stds = clf.cv_results_['std_test_score']\n",
    "print(means)\n",
    "\n",
    "y_true, y_pred = y_test, clf.predict(X_test)\n",
    "print( '\\nClassification report\\n' )\n",
    "print(classification_report(y_true, y_pred))"
   ]
  },
  {
   "cell_type": "code",
   "execution_count": null,
   "metadata": {},
   "outputs": [],
   "source": []
  }
 ]
}